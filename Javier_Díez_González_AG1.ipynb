{
  "nbformat": 4,
  "nbformat_minor": 0,
  "metadata": {
    "colab": {
      "name": "Javier Díez González - AG1.ipynb",
      "provenance": [],
      "collapsed_sections": [],
      "include_colab_link": true
    },
    "kernelspec": {
      "name": "python3",
      "display_name": "Python 3"
    }
  },
  "cells": [
    {
      "cell_type": "markdown",
      "metadata": {
        "id": "view-in-github",
        "colab_type": "text"
      },
      "source": [
        "<a href=\"https://colab.research.google.com/github/JavierDiezGonzalez/Algoritmos-de-Optimizacion/blob/master/Javier_D%C3%ADez_Gonz%C3%A1lez_AG1.ipynb\" target=\"_parent\"><img src=\"https://colab.research.google.com/assets/colab-badge.svg\" alt=\"Open In Colab\"/></a>"
      ]
    },
    {
      "cell_type": "markdown",
      "metadata": {
        "id": "TrjBK7l-MTrO",
        "colab_type": "text"
      },
      "source": [
        "Actividad Guiada 1- AG1\n",
        "Javier Díez González\n",
        "\n",
        "https://colab.research.google.com/drive/1ayVBY_zO2aZi2qdMJSUWDSis7LQuBRT3\n",
        "\n",
        "https://github.com/JavierDiezGonzalez/03MAIR---Algoritmos-de-Optimizacion---2019\n",
        "\n"
      ]
    },
    {
      "cell_type": "markdown",
      "metadata": {
        "id": "W5AQX-2kczrx",
        "colab_type": "text"
      },
      "source": [
        "ORDENACIÓN DE UNA LISTA POR EL MÉTODO QUICK SORT (TÉCNICA DIVIDE Y VENCERÁS)"
      ]
    },
    {
      "cell_type": "code",
      "metadata": {
        "id": "vJXE9GmtMhrt",
        "colab_type": "code",
        "colab": {}
      },
      "source": [
        "from functools import wraps\n",
        "from time import time\n",
        "\n",
        "def calcular_tiempo(f):\n",
        "    @wraps(f)\n",
        "    def cronometro(*args, **kwargs):\n",
        "        t_inicial = time()\n",
        "        salida = f(*args, **kwargs)\n",
        "        t_final = time()\n",
        "        print('Tiempo transcurrido (en segundos): {}'.format(t_final - t_inicial))\n",
        "        return salida\n",
        "    return cronometro"
      ],
      "execution_count": 0,
      "outputs": []
    },
    {
      "cell_type": "code",
      "metadata": {
        "id": "BtPMntkqRj01",
        "colab_type": "code",
        "colab": {}
      },
      "source": [
        "import numpy as np\n",
        "import random\n",
        "A = [9187, 244, 4054, 9222, 8373, 4993, 5265, 5470, 4519, 7182, 2035, 3506, 4337, 7580, 2554, 2824, 8357, 4447, 7379]\n"
      ],
      "execution_count": 0,
      "outputs": []
    },
    {
      "cell_type": "code",
      "metadata": {
        "id": "mhbOzy_SScAj",
        "colab_type": "code",
        "colab": {}
      },
      "source": [
        "\n",
        "def quick_sort(A):\n",
        "  if len(A)==1:\n",
        "    return A\n",
        "  if len(A)==2:\n",
        "    return [min(A),max(A)]\n",
        "  \n",
        "  pivote=np.median(A)#Mejora del pivote a través de la mediana\n",
        "  \n",
        "  IZQ=[]\n",
        "  DER=[]\n",
        "  \n",
        "  for n in A:\n",
        "    if n<pivote:\n",
        "      IZQ.append(n)\n",
        "    else:\n",
        "      DER.append(n)\n",
        "  \n",
        "  return quick_sort(IZQ) + quick_sort(DER)\n",
        "\n",
        "@calcular_tiempo  \n",
        "def ordenar_quick_sort(A):\n",
        "  print(quick_sort(A))\n",
        "  "
      ],
      "execution_count": 0,
      "outputs": []
    },
    {
      "cell_type": "code",
      "metadata": {
        "id": "Fi9oT_xcStPL",
        "colab_type": "code",
        "outputId": "92cd7c22-03bc-43dd-ac39-40ddc68ae920",
        "colab": {
          "base_uri": "https://localhost:8080/",
          "height": 51
        }
      },
      "source": [
        "ordenar_quick_sort(A)"
      ],
      "execution_count": 0,
      "outputs": [
        {
          "output_type": "stream",
          "text": [
            "[244, 2035, 2554, 2824, 3506, 4054, 4337, 4447, 4519, 4993, 5265, 5470, 7182, 7379, 7580, 8357, 8373, 9187, 9222]\n",
            "Tiempo transcurrido (en segundos): 0.001965045928955078\n"
          ],
          "name": "stdout"
        }
      ]
    },
    {
      "cell_type": "markdown",
      "metadata": {
        "id": "raz0vMAuc-Dg",
        "colab_type": "text"
      },
      "source": [
        "ALGORITMO VORAZ (PROBLEMA DE CAMBIO DE MONEDAS)"
      ]
    },
    {
      "cell_type": "code",
      "metadata": {
        "id": "6ZZbbwxqgS6f",
        "colab_type": "code",
        "colab": {}
      },
      "source": [
        "def quick_sort_inverso(A):\n",
        "  if len(A)==1:\n",
        "    return A\n",
        "  if len(A)==2:\n",
        "    return min(A), max(A)\n",
        "  \n",
        "  pivote=np.median(A)#Mejora del pivote a través de la mediana\n",
        "  \n",
        "  IZQ=[]\n",
        "  DER=[]\n",
        "  \n",
        "  for n in A:\n",
        "    if n<pivote:\n",
        "      IZQ.append(n)\n",
        "    else:\n",
        "      DER.append(n)\n",
        "  \n",
        "  return quick_sort(IZQ) + quick_sort(DER)\n",
        "\n",
        "@calcular_tiempo  \n",
        "def ordenar_quick_sort(A):\n",
        "  print(quick_sort(A))\n",
        "  "
      ],
      "execution_count": 0,
      "outputs": []
    },
    {
      "cell_type": "code",
      "metadata": {
        "id": "oRdQ3BwS-9mO",
        "colab_type": "code",
        "outputId": "58ee5b0f-08f1-43fe-e1b2-95c37aa1114b",
        "colab": {
          "base_uri": "https://localhost:8080/",
          "height": 340
        }
      },
      "source": [
        "A.sort(reverse=True)\n",
        "A"
      ],
      "execution_count": 0,
      "outputs": [
        {
          "output_type": "execute_result",
          "data": {
            "text/plain": [
              "[9222,\n",
              " 9187,\n",
              " 8373,\n",
              " 8357,\n",
              " 7580,\n",
              " 7379,\n",
              " 7182,\n",
              " 5470,\n",
              " 5265,\n",
              " 4993,\n",
              " 4519,\n",
              " 4447,\n",
              " 4337,\n",
              " 4054,\n",
              " 3506,\n",
              " 2824,\n",
              " 2554,\n",
              " 2035,\n",
              " 244]"
            ]
          },
          "metadata": {
            "tags": []
          },
          "execution_count": 50
        }
      ]
    },
    {
      "cell_type": "code",
      "metadata": {
        "id": "oIkN03jwfNmp",
        "colab_type": "code",
        "outputId": "4c664ac3-e8e3-4bd0-cdc6-b21bf5a0265b",
        "colab": {
          "base_uri": "https://localhost:8080/",
          "height": 51
        }
      },
      "source": [
        "sistema_monetario=[25,10,5,1]\n",
        "cantidad=100\n",
        "lista_monedas=[0 for i in range(len(sistema_monetario))] \n",
        "cambio_monedas(cantidad,sistema_monetario, lista_monedas)"
      ],
      "execution_count": 0,
      "outputs": [
        {
          "output_type": "stream",
          "text": [
            "[4, 0, 0, 0]\n",
            "Tiempo transcurrido (en segundos): 0.0015780925750732422\n"
          ],
          "name": "stdout"
        }
      ]
    },
    {
      "cell_type": "code",
      "metadata": {
        "id": "sBBJD29JdCzQ",
        "colab_type": "code",
        "colab": {}
      },
      "source": [
        "@calcular_tiempo \n",
        "def cambio_monedas(cantidad,sistema_monetario, lista_monedas):\n",
        "  Valor_acumulado=0;\n",
        "  \n",
        "  \n",
        "  for i in range(len(sistema_monetario)):\n",
        "    monedas=int((cantidad-Valor_acumulado)/sistema_monetario[i])\n",
        "    lista_monedas[i]=monedas\n",
        "    Valor_acumulado=Valor_acumulado + sistema_monetario[i]*lista_monedas[i]\n",
        "    if Valor_acumulado==cantidad:\n",
        "      return print(lista_monedas)\n",
        "    \n",
        "  "
      ],
      "execution_count": 0,
      "outputs": []
    },
    {
      "cell_type": "markdown",
      "metadata": {
        "id": "QlbAKcIyrhuy",
        "colab_type": "text"
      },
      "source": [
        "ALGORITMO CON VUELTA ATRÁS PARA EL PROBLEMA DE LAS N-REINAS"
      ]
    },
    {
      "cell_type": "code",
      "metadata": {
        "id": "lL63tpP6rgsz",
        "colab_type": "code",
        "colab": {}
      },
      "source": [
        "def es_prometedora(solucion,etapa):\n",
        "  for i in range(etapa+1):\n",
        "    if solucion.count(solucion[i])>1:\n",
        "      return False\n",
        "    for j in range(i+1,etapa+1):\n",
        "      if abs(i-j)==abs(solucion[i]-solucion[j]):\n",
        "        return False\n",
        "  return True\n",
        "\n",
        "\n",
        "\n",
        "def reinas (N, solucion=[], etapa=0):\n",
        "  \n",
        "  if len(solucion)==0:\n",
        "    solucion=[0 for i in range(N)]\n",
        " \n",
        "  for i in range(1, N+1):\n",
        "    solucion[etapa]=i\n",
        "    \n",
        "    if es_prometedora(solucion,etapa):\n",
        "      if etapa==N-1:\n",
        "        print('La solución es', solucion)\n",
        "      else:\n",
        "        reinas(N,solucion,etapa+1)\n",
        "    else:\n",
        "      None\n",
        "    \n",
        "    solucion[etapa]=0"
      ],
      "execution_count": 0,
      "outputs": []
    },
    {
      "cell_type": "code",
      "metadata": {
        "id": "smKpCXYYvzvK",
        "colab_type": "code",
        "outputId": "361d4ae6-582e-42a7-c481-5455dc48fa9f",
        "colab": {
          "base_uri": "https://localhost:8080/",
          "height": 51
        }
      },
      "source": [
        "reinas(4)"
      ],
      "execution_count": 0,
      "outputs": [
        {
          "output_type": "stream",
          "text": [
            "La solución es [2, 4, 1, 3]\n",
            "La solución es [3, 1, 4, 2]\n"
          ],
          "name": "stdout"
        }
      ]
    },
    {
      "cell_type": "code",
      "metadata": {
        "id": "9qyoicLcD45S",
        "colab_type": "code",
        "colab": {}
      },
      "source": [
        "lista=[3403,4537,9089,9746,7259,10,98,5902,1,8902,3456]"
      ],
      "execution_count": 0,
      "outputs": []
    },
    {
      "cell_type": "code",
      "metadata": {
        "id": "MRigLNPAEN-I",
        "colab_type": "code",
        "colab": {}
      },
      "source": [
        "def puntos_cercanos_fuerza_bruta(lista,resta=0,resta_min=-1,posicion_1=0, posicion_2=0):\n",
        "  for i in range(len(lista)):\n",
        "    for j in range(len(lista)):\n",
        "      if i!=j:\n",
        "        resta=abs(lista[i]-lista[j])\n",
        "        if (resta<resta_min) or resta_min<=0:\n",
        "          resta_min=resta\n",
        "          posicion_1=i\n",
        "          posicion_2=j\n",
        "  return  [lista[posicion_1],lista[posicion_2]]    \n",
        "        "
      ],
      "execution_count": 0,
      "outputs": []
    },
    {
      "cell_type": "code",
      "metadata": {
        "id": "zgdbcGmeHcTo",
        "colab_type": "code",
        "outputId": "59ef2eb6-26dc-4e65-91aa-bf777c54bc79",
        "colab": {
          "base_uri": "https://localhost:8080/",
          "height": 34
        }
      },
      "source": [
        "puntos_cercanos_fuerza_bruta(lista)"
      ],
      "execution_count": 0,
      "outputs": [
        {
          "output_type": "execute_result",
          "data": {
            "text/plain": [
              "[10, 1]"
            ]
          },
          "metadata": {
            "tags": []
          },
          "execution_count": 77
        }
      ]
    },
    {
      "cell_type": "code",
      "metadata": {
        "id": "x3ugRHsuIBMn",
        "colab_type": "code",
        "colab": {}
      },
      "source": [
        "def puntos_cercanos_divide_y_venceras"
      ],
      "execution_count": 0,
      "outputs": []
    }
  ]
}