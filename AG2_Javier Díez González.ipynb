{
  "nbformat": 4,
  "nbformat_minor": 0,
  "metadata": {
    "colab": {
      "name": "AG2.ipynb",
      "provenance": [],
      "collapsed_sections": [],
      "include_colab_link": true
    },
    "kernelspec": {
      "name": "python3",
      "display_name": "Python 3"
    },
    "accelerator": "GPU"
  },
  "cells": [
    {
      "cell_type": "markdown",
      "metadata": {
        "id": "view-in-github",
        "colab_type": "text"
      },
      "source": [
        "<a href=\"https://colab.research.google.com/github/JavierDiezGonzalez/Algoritmos-de-Optimizacion/blob/master/AG2_Javier%20D%C3%ADez%20Gonz%C3%A1lez.ipynb\" target=\"_parent\"><img src=\"https://colab.research.google.com/assets/colab-badge.svg\" alt=\"Open In Colab\"/></a>"
      ]
    },
    {
      "cell_type": "markdown",
      "metadata": {
        "id": "yYtMsZrqc37s",
        "colab_type": "text"
      },
      "source": [
        "#Nombre: Javier Díez González\n",
        "## URL: https://colab.research.google.com/drive/1Sc9GgAAlUzQrJdhJ851g1cIIbRuyiS6r\n",
        "## Github:https://github.com/JavierDiezGonzalez/Algoritmos-de-Optimizacion"
      ]
    },
    {
      "cell_type": "markdown",
      "metadata": {
        "id": "9K9-BdD9FL0Z",
        "colab_type": "text"
      },
      "source": [
        "#Viaje por el río. Programación dinámica\n"
      ]
    },
    {
      "cell_type": "code",
      "metadata": {
        "id": "rajaLtxRW857",
        "colab_type": "code",
        "colab": {}
      },
      "source": [
        "TARIFAS = [\n",
        "[0,5,4,3,999,999,999],\n",
        "[999,0,999,2,3,999,11],\n",
        "[999,999, 0,1,999,4,10],\n",
        "[999,999,999, 0,5,6,9],\n",
        "[999,999, 999,999,0,999,4],\n",
        "[999,999, 999,999,999,0,3],\n",
        "[999,999,999,999,999,999,0]\n",
        "]"
      ],
      "execution_count": 0,
      "outputs": []
    },
    {
      "cell_type": "code",
      "metadata": {
        "id": "nG7jIgmHeJ97",
        "colab_type": "code",
        "outputId": "7e72fd66-d751-4ba5-c9ad-19f0efd07754",
        "colab": {
          "base_uri": "https://localhost:8080/",
          "height": 34
        }
      },
      "source": [
        "def Precios(TARIFAS):\n",
        "  \n",
        "  N=len(TARIFAS[0])\n",
        "  \n",
        "  \n",
        "  PRECIOS=[[9999]*N for i in [9999]*N]\n",
        "  RUTA=[['']*N for i in ['']*N]\n",
        "  \n",
        "  \n",
        "  for i in range(N-1):\n",
        "    for j in range(i+1,N):\n",
        "      MIN = TARIFAS[i][j]\n",
        "      RUTA [i][j]= i\n",
        "      \n",
        "      for k in range(i,j):\n",
        "        if PRECIOS[i][k]+TARIFAS[k][j]<MIN:\n",
        "          MIN=PRECIOS[i][k]+TARIFAS[k][j]\n",
        "          RUTA [i][j]=k\n",
        "      PRECIOS[i][j]=MIN\n",
        "  return PRECIOS,RUTA\n",
        "\n",
        "PRECIOS,RUTA=Precios(TARIFAS)\n",
        "\n",
        "def calcular_ruta(RUTA,desde,hasta):\n",
        "  if desde==hasta:\n",
        "    return desde\n",
        "  else:\n",
        "    return str(calcular_ruta(RUTA,desde, RUTA[desde][hasta]))+''+str( RUTA[desde][hasta])\n",
        "\n",
        "calcular_ruta(RUTA,0,6)"
      ],
      "execution_count": 0,
      "outputs": [
        {
          "output_type": "execute_result",
          "data": {
            "text/plain": [
              "'0025'"
            ]
          },
          "metadata": {
            "tags": []
          },
          "execution_count": 28
        }
      ]
    },
    {
      "cell_type": "code",
      "metadata": {
        "id": "QRW1k1Nf4eu-",
        "colab_type": "code",
        "outputId": "6f466413-c868-4517-f733-cbedd384c5e4",
        "colab": {
          "base_uri": "https://localhost:8080/",
          "height": 52
        }
      },
      "source": [
        "print(PRECIOS)\n",
        "print(RUTA)"
      ],
      "execution_count": 0,
      "outputs": [
        {
          "output_type": "stream",
          "text": [
            "[[9999, 5, 4, 3, 8, 8, 11], [9999, 9999, 999, 2, 3, 8, 7], [9999, 9999, 9999, 1, 6, 4, 7], [9999, 9999, 9999, 9999, 5, 6, 9], [9999, 9999, 9999, 9999, 9999, 999, 4], [9999, 9999, 9999, 9999, 9999, 9999, 3], [9999, 9999, 9999, 9999, 9999, 9999, 9999]]\n",
            "[['', 0, 0, 0, 1, 2, 5], ['', '', 1, 1, 1, 3, 4], ['', '', '', 2, 3, 2, 5], ['', '', '', '', 3, 3, 3], ['', '', '', '', '', 4, 4], ['', '', '', '', '', '', 5], ['', '', '', '', '', '', '']]\n"
          ],
          "name": "stdout"
        }
      ]
    },
    {
      "cell_type": "markdown",
      "metadata": {
        "id": "bBolisXAFYVe",
        "colab_type": "text"
      },
      "source": [
        "#Asignación de tareas. Ramificación y poda."
      ]
    },
    {
      "cell_type": "code",
      "metadata": {
        "id": "C2Gs8lXyFb7W",
        "colab_type": "code",
        "colab": {}
      },
      "source": [
        "import itertools\n",
        "import numpy as np\n",
        "\n",
        "def calcular_tiempo(f):\n",
        "    @wraps(f)\n",
        "    def cronometro(*args, **kwargs):\n",
        "        t_inicial = time()\n",
        "        salida = f(*args, **kwargs)\n",
        "        t_final = time()\n",
        "        print('Tiempo transcurrido (en segundos): {}'.format(t_final - t_inicial))\n",
        "        return salida\n",
        "    return cronometro"
      ],
      "execution_count": 0,
      "outputs": []
    },
    {
      "cell_type": "code",
      "metadata": {
        "id": "2OanHkMaHE2W",
        "colab_type": "code",
        "colab": {}
      },
      "source": [
        "COSTES=[[11,12,18,40],\n",
        "        [14,15,13,22],\n",
        "        [11,17,19,23],\n",
        "        [17,14,20,28]]"
      ],
      "execution_count": 0,
      "outputs": []
    },
    {
      "cell_type": "code",
      "metadata": {
        "id": "BDtSOfqlJjbP",
        "colab_type": "code",
        "colab": {}
      },
      "source": [
        "def valor(S,COSTES):\n",
        "  VALOR=0\n",
        "  for i in range(len(S)):\n",
        "    VALOR+=COSTES[S[i]][i]\n",
        "  return VALOR\n",
        "    \n",
        "  \n"
      ],
      "execution_count": 0,
      "outputs": []
    },
    {
      "cell_type": "code",
      "metadata": {
        "id": "TRIeNtlbK_Sg",
        "colab_type": "code",
        "colab": {}
      },
      "source": [
        "\n",
        "def fuerza_bruta(COSTES):\n",
        "  \n",
        "  mejor_valor= 10e10\n",
        "  mejor_solucion=''\n",
        "  \n",
        "  for S in list(itertools.permutations(range(len(COSTES)))):\n",
        "    valor_temp=valor(S,COSTES)\n",
        "    if valor_temp<mejor_valor:\n",
        "      mejor_solucion=S\n",
        "      mejor_valor=valor_temp\n",
        "  print('La mejor solución es :', mejor_solucion, 'con valor: ', mejor_valor)\n",
        "  \n",
        "\n",
        "\n",
        "  \n",
        "  "
      ],
      "execution_count": 0,
      "outputs": []
    },
    {
      "cell_type": "code",
      "metadata": {
        "id": "sSywY8zbrc5J",
        "colab_type": "code",
        "outputId": "62a4fe47-2865-4499-ab5d-9e46f8d1aac8",
        "colab": {
          "base_uri": "https://localhost:8080/",
          "height": 34
        }
      },
      "source": [
        "fuerza_bruta(COSTES)"
      ],
      "execution_count": 0,
      "outputs": [
        {
          "output_type": "stream",
          "text": [
            "La mejor solución es : (0, 3, 1, 2) con valor:  61\n"
          ],
          "name": "stdout"
        }
      ]
    },
    {
      "cell_type": "markdown",
      "metadata": {
        "id": "aUm8VX8XlPXK",
        "colab_type": "text"
      },
      "source": [
        "Tiene un orden de N!"
      ]
    },
    {
      "cell_type": "code",
      "metadata": {
        "id": "xKoCLnF5Lp2_",
        "colab_type": "code",
        "outputId": "d88657f7-2239-4dcf-eff4-feec508b65d0",
        "colab": {
          "base_uri": "https://localhost:8080/",
          "height": 34
        }
      },
      "source": [
        "def CI(S,COSTES):\n",
        "  \n",
        "  VALOR=0\n",
        "  \n",
        "  for i in range(len(S)):\n",
        "    VALOR+=COSTES[i][S[i]]\n",
        "    \n",
        "  for i in range(len(COSTES)):\n",
        "    if i not in S:\n",
        "      VALOR+=min([COSTES[j][i] for j in range(len(S),len(COSTES))])\n",
        "  \n",
        "  return VALOR\n",
        "\n",
        "\n",
        "\n",
        "def crear_hijos(NODO, N):\n",
        "  HIJOS=[]\n",
        "  \n",
        "  for i in range(N):\n",
        "    if i not in NODO:\n",
        "      HIJOS.append({'s':NODO+(i,)})\n",
        "  \n",
        "  return HIJOS\n",
        "\n",
        "crear_hijos((0,2),4)"
      ],
      "execution_count": 0,
      "outputs": [
        {
          "output_type": "execute_result",
          "data": {
            "text/plain": [
              "[{'s': (0, 2, 1)}, {'s': (0, 2, 3)}]"
            ]
          },
          "metadata": {
            "tags": []
          },
          "execution_count": 37
        }
      ]
    },
    {
      "cell_type": "code",
      "metadata": {
        "id": "yt8n_sxAZAAy",
        "colab_type": "code",
        "outputId": "fb924c83-1b5e-4ebc-c9e6-16a760066c03",
        "colab": {
          "base_uri": "https://localhost:8080/",
          "height": 34
        }
      },
      "source": [
        "def ramificacion_y_poda(COSTES):\n",
        "  DIMENSION=len(COSTES)\n",
        "  #(0,1,2,3)\n",
        "  MEJOR_SOLUCION=tuple(i for i in range (DIMENSION))\n",
        "  \n",
        "  CotaSup=valor(MEJOR_SOLUCION,COSTES)\n",
        "  \n",
        "  NODOS=[]\n",
        "  NODOS.append({'s':(),'CI': CI((),COSTES)})\n",
        "  \n",
        "  iteracion=0\n",
        "  \n",
        "  while (len(NODOS)>0):\n",
        "    iteracion+=1\n",
        "    #print('\\n#',iteracion)\n",
        "    nodo_prometedor=min(NODOS,key=lambda x: x['CI'])\n",
        "    #print(nodo_prometedor)\n",
        "    #Hijos\n",
        "    HIJOS=[{'s':x['s'], 'CI':CI(x['s'],COSTES)} for x in crear_hijos(nodo_prometedor['s'], DIMENSION)]\n",
        "    \n",
        "    NODO_FINAL=[x for x in HIJOS if len(x['s'])==DIMENSION]\n",
        "    if len(NODO_FINAL)>0:\n",
        "      if NODO_FINAL[0]['CI']<CotaSup:\n",
        "        CotaSup=NODO_FINAL[0]['CI']\n",
        "        MEJOR_SOLUCION=NODO_FINAL[0]\n",
        "        \n",
        "    #Poda\n",
        "    HIJOS=[x for x in HIJOS if x['CI']<CotaSup]\n",
        "    \n",
        "    #Eliminamos el nodo expandido\n",
        "    NODOS=[x for x in NODOS if x['s']!=nodo_prometedor['s']]\n",
        "    \n",
        "    #Incrementamos la lista de nodos pendientes de analizar\n",
        "    NODOS.extend(HIJOS)\n",
        "    #Se oculta este print de la práctica para que no se pierda tiempo ejecutando el algoritmo y poder comparar en realidad fuerza_bruta y ramificacion_y_poda\n",
        "    #print(NODOS)\n",
        "  \n",
        "  print('La mejor solución es: ', MEJOR_SOLUCION)\n",
        "  \n",
        "ramificacion_y_poda(COSTES)"
      ],
      "execution_count": 0,
      "outputs": [
        {
          "output_type": "stream",
          "text": [
            "La mejor solución es:  {'s': (0, 2, 3, 1), 'CI': 61}\n"
          ],
          "name": "stdout"
        }
      ]
    },
    {
      "cell_type": "markdown",
      "metadata": {
        "id": "Rc0aFjbmpiNi",
        "colab_type": "text"
      },
      "source": [
        "GENERAR MATRICES DE MAYORES DIMENSIONES Y EJECUTAR AMBOS ALGORITMOS"
      ]
    },
    {
      "cell_type": "code",
      "metadata": {
        "id": "PaIYfDOBla25",
        "colab_type": "code",
        "colab": {}
      },
      "source": [
        "def nueva_dimension(DIMENSION):\n",
        "  for i in range(DIMENSION):\n",
        "    COSTES=np.random.randint(30,size=(DIMENSION,DIMENSION))\n",
        "  return COSTES"
      ],
      "execution_count": 0,
      "outputs": []
    },
    {
      "cell_type": "code",
      "metadata": {
        "id": "dzW_1ruLmImp",
        "colab_type": "code",
        "colab": {}
      },
      "source": [
        "COSTES=nueva_dimension(6)"
      ],
      "execution_count": 0,
      "outputs": []
    },
    {
      "cell_type": "code",
      "metadata": {
        "id": "WLImFJKLsLg7",
        "colab_type": "code",
        "outputId": "af2ef6c5-9c68-4fdc-ab8c-0483c8f92ca8",
        "colab": {
          "base_uri": "https://localhost:8080/",
          "height": 34
        }
      },
      "source": [
        "fuerza_bruta(COSTES)"
      ],
      "execution_count": 0,
      "outputs": [
        {
          "output_type": "stream",
          "text": [
            "La mejor solución es : (0, 3, 5, 4, 1, 2) con valor:  45\n"
          ],
          "name": "stdout"
        }
      ]
    },
    {
      "cell_type": "code",
      "metadata": {
        "id": "xWjo1XzfsLsR",
        "colab_type": "code",
        "outputId": "03f4ad8e-4344-48ce-dbd1-38629a37d479",
        "colab": {
          "base_uri": "https://localhost:8080/",
          "height": 34
        }
      },
      "source": [
        "ramificacion_y_poda(COSTES)"
      ],
      "execution_count": 0,
      "outputs": [
        {
          "output_type": "stream",
          "text": [
            "La mejor solución es:  {'s': (0, 4, 5, 1, 3, 2), 'CI': 45}\n"
          ],
          "name": "stdout"
        }
      ]
    },
    {
      "cell_type": "code",
      "metadata": {
        "id": "Wx5otwbrsL0x",
        "colab_type": "code",
        "colab": {}
      },
      "source": [
        "COSTES=nueva_dimension(8)"
      ],
      "execution_count": 0,
      "outputs": []
    },
    {
      "cell_type": "code",
      "metadata": {
        "id": "2AvDj4JnsL75",
        "colab_type": "code",
        "outputId": "e2c080e1-ca8f-49b1-a999-c03cdddf6476",
        "colab": {
          "base_uri": "https://localhost:8080/",
          "height": 34
        }
      },
      "source": [
        "fuerza_bruta(COSTES)"
      ],
      "execution_count": 0,
      "outputs": [
        {
          "output_type": "stream",
          "text": [
            "La mejor solución es : (3, 2, 0, 5, 7, 4, 6, 1) con valor:  50\n"
          ],
          "name": "stdout"
        }
      ]
    },
    {
      "cell_type": "code",
      "metadata": {
        "id": "y9ls1bPxsMHB",
        "colab_type": "code",
        "outputId": "e6eafb5e-d1b6-41a3-d173-c11835538f60",
        "colab": {
          "base_uri": "https://localhost:8080/",
          "height": 34
        }
      },
      "source": [
        "ramificacion_y_poda(COSTES)"
      ],
      "execution_count": 0,
      "outputs": [
        {
          "output_type": "stream",
          "text": [
            "La mejor solución es:  {'s': (2, 7, 1, 0, 5, 3, 6, 4), 'CI': 50}\n"
          ],
          "name": "stdout"
        }
      ]
    },
    {
      "cell_type": "code",
      "metadata": {
        "id": "3oXiYBJatBpa",
        "colab_type": "code",
        "colab": {}
      },
      "source": [
        "COSTES=nueva_dimension(20)"
      ],
      "execution_count": 0,
      "outputs": []
    },
    {
      "cell_type": "code",
      "metadata": {
        "id": "BDcq35FXtB1Z",
        "colab_type": "code",
        "colab": {}
      },
      "source": [
        ""
      ],
      "execution_count": 0,
      "outputs": []
    },
    {
      "cell_type": "code",
      "metadata": {
        "id": "sEOHUizCtB8R",
        "colab_type": "code",
        "colab": {}
      },
      "source": [
        ""
      ],
      "execution_count": 0,
      "outputs": []
    },
    {
      "cell_type": "code",
      "metadata": {
        "id": "zqNqlp3BtCAy",
        "colab_type": "code",
        "colab": {}
      },
      "source": [
        ""
      ],
      "execution_count": 0,
      "outputs": []
    },
    {
      "cell_type": "code",
      "metadata": {
        "id": "w_UOYPCwtCEC",
        "colab_type": "code",
        "colab": {}
      },
      "source": [
        ""
      ],
      "execution_count": 0,
      "outputs": []
    },
    {
      "cell_type": "code",
      "metadata": {
        "id": "LTQAui05tCHD",
        "colab_type": "code",
        "colab": {}
      },
      "source": [
        ""
      ],
      "execution_count": 0,
      "outputs": []
    },
    {
      "cell_type": "code",
      "metadata": {
        "id": "5rdUCcJjtCJq",
        "colab_type": "code",
        "colab": {}
      },
      "source": [
        ""
      ],
      "execution_count": 0,
      "outputs": []
    },
    {
      "cell_type": "code",
      "metadata": {
        "id": "7BvPyE_ptCMK",
        "colab_type": "code",
        "colab": {}
      },
      "source": [
        ""
      ],
      "execution_count": 0,
      "outputs": []
    }
  ]
}