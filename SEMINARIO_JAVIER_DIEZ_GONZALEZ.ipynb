{
 "cells": [
  {
   "cell_type": "markdown",
   "metadata": {
    "colab_type": "text",
    "id": "hVbXYX-RfPWh"
   },
   "source": [
    "# Algoritmos de optimización - Seminario<br>\n",
    "Nombre y Apellidos: JAVIER DÍEZ GONZÁLEZ   <br>\n",
    "Url: https://github.com/JavierDiezGonzalez/Algoritmos-de-Optimizacion<br>\n",
    "Problema:\n",
    "> 1. Elección de grupos de población homogéneos <br>\n",
    "\n",
    "\n",
    "Descripción del problema:(copiar enunciado)\n",
    "Problema 1. Elección de grupos de población homogéneos\n",
    "• Una productora ganadera nos encarga la tarea de seleccionar grupos de\n",
    "terneros para aplicar 3 tratamientos diferentes. Para cada uno de los\n",
    "tratamientos debemos seleccionar 3 grupos de terneros separados por sexos\n",
    "que sean lo mas homogéneos posible en peso para que en los resultados del\n",
    "tratamiento influya lo menos posible el peso del animal. Disponemos de una\n",
    "población de N animales entre machos y hembras\n",
    "• Se solicita diseñar un algoritmo para conseguir una agrupación que cumpla de la\n",
    "mejor manera posible las especificaciones de la productora.\n",
    "• Aun se desconocen los datos concretos de los animales por lo que debemos\n",
    "trabajar con datos generados por nosotros de forma aleatoria. Lo que si nos\n",
    "proporcionan es una plantilla de los datos:\n",
    "• Hemos podido averiguar que el peso medio del ternero es 35kg con una\n",
    "desviación estándar de 3.1\n",
    "....\n",
    "\n",
    "(*) La respuesta es obligatoria\n",
    "\n",
    "\n",
    "\n",
    "\n",
    "\n",
    "                                        "
   ]
  },
  {
   "cell_type": "code",
   "execution_count": 0,
   "metadata": {
    "colab": {},
    "colab_type": "code",
    "id": "AiskKkzZfy4e"
   },
   "outputs": [],
   "source": []
  },
  {
   "cell_type": "markdown",
   "metadata": {
    "colab_type": "text",
    "id": "3_-exlrTgLd-"
   },
   "source": [
    "(*)¿Cuantas posibilidades hay sin tener en cuenta las restricciones?<br>\n",
    "\n",
    "\n",
    "\n",
    "¿Cuantas posibilidades hay teniendo en cuenta todas las restricciones.\n",
    "\n",
    "\n"
   ]
  },
  {
   "cell_type": "markdown",
   "metadata": {
    "colab_type": "text",
    "id": "WfCUqJyKhPcw"
   },
   "source": [
    "Respuesta"
   ]
  },
  {
   "cell_type": "markdown",
   "metadata": {
    "colab": {},
    "colab_type": "code",
    "id": "iq6Fe32MgpDX"
   },
   "source": [
    "Se trata de todas las posibles combinaciones de N animales tomados en 9 grupos de un número idéntico de individuos que a su vez han de combinarse de 3 en 3 en los tratamientos.\n"
   ]
  },
  {
   "cell_type": "markdown",
   "metadata": {
    "colab_type": "text",
    "id": "dzynfVJahHoY"
   },
   "source": [
    "Modelo para el espacio de soluciones<br>\n",
    "(*) ¿Cual es la estructura de datos que mejor se adapta al problema? Argumentalo.(Es posible que hayas elegido una al principio y veas la necesidad de cambiar, arguentalo)\n"
   ]
  },
  {
   "cell_type": "markdown",
   "metadata": {
    "colab_type": "text",
    "id": "xFIJrOwKi2Ti"
   },
   "source": [
    "Respuesta"
   ]
  },
  {
   "cell_type": "markdown",
   "metadata": {
    "colab": {},
    "colab_type": "code",
    "id": "38c-7-ejhJmA"
   },
   "source": [
    "El problema es de tipo NP por las dimensiones del espacio de soluciones por lo que una resolución de búsqueda dentro del espacio de soluciones con una técnica heurística es lo más recomendable."
   ]
  },
  {
   "cell_type": "markdown",
   "metadata": {
    "colab_type": "text",
    "id": "7Z9U2W7bi-XS"
   },
   "source": [
    "Según el modelo para el espacio de soluciones<br>\n",
    "(*)¿Cual es la función objetivo?\n",
    "\n",
    "(*)¿Es un problema de maximización o minimización?"
   ]
  },
  {
   "cell_type": "markdown",
   "metadata": {
    "colab_type": "text",
    "id": "hBalWLM7j1_d"
   },
   "source": [
    "Respuesta"
   ]
  },
  {
   "cell_type": "markdown",
   "metadata": {
    "colab": {},
    "colab_type": "code",
    "id": "pDA-rg3Gj5Lz"
   },
   "source": [
    "La función objetivo que he utiliza es la minimización de las diferencias entre las medias de cada grupo sumado a 10 veces la \n",
    "diferencia de las desviaciones estándar de cada grupo.\n",
    "\n",
    "Para reducir la dimensionalidad del problema primero hago la distribución de los individuos en grupos del mismo sexo\n",
    "con la función planteada y como ya están homogeneizadas dentro de cada subgrupo las desviaciones posteriormente hago la asigna-\n",
    "ción de los grupos a los tratamientos con otra función de minimización de las diferencias de las medias de los tratamientos entre\n",
    "sí."
   ]
  },
  {
   "cell_type": "markdown",
   "metadata": {
    "colab_type": "text",
    "id": "rlnTYgY1j6I2"
   },
   "source": [
    "Diseña un algoritmo para resolver el problema por fuerza bruta"
   ]
  },
  {
   "cell_type": "markdown",
   "metadata": {
    "colab_type": "text",
    "id": "70rDgxYXkC8r"
   },
   "source": [
    "Respuesta"
   ]
  },
  {
   "cell_type": "code",
   "execution_count": 0,
   "metadata": {
    "colab": {},
    "colab_type": "code",
    "id": "CJb5sQ0qkENy"
   },
   "outputs": [],
   "source": []
  },
  {
   "cell_type": "markdown",
   "metadata": {
    "colab_type": "text",
    "id": "tgrnsC2nkFa8"
   },
   "source": [
    "Calcula la complejidad del algoritmo por fuerza bruta"
   ]
  },
  {
   "cell_type": "markdown",
   "metadata": {
    "colab_type": "text",
    "id": "9eUd3xwckP68"
   },
   "source": [
    "Respuesta"
   ]
  },
  {
   "cell_type": "code",
   "execution_count": 0,
   "metadata": {
    "colab": {},
    "colab_type": "code",
    "id": "rvZWwL-ckRST"
   },
   "outputs": [],
   "source": [
    "O(n!)"
   ]
  },
  {
   "cell_type": "markdown",
   "metadata": {
    "colab_type": "text",
    "id": "txbrmLmskReM"
   },
   "source": [
    "(*)Diseña un algoritmo que mejore la complejidad del algortimo por fuerza bruta. Argumenta porque crees que mejora el algoritmo por fuerza bruta"
   ]
  },
  {
   "cell_type": "markdown",
   "metadata": {
    "colab_type": "text",
    "id": "hLrVwt5QkZPD"
   },
   "source": [
    "Respuesta"
   ]
  },
  {
   "cell_type": "code",
   "execution_count": 2,
   "metadata": {
    "colab": {},
    "colab_type": "code",
    "id": "m1eyM21Vkabg"
   },
   "outputs": [],
   "source": [
    "import pandas as pd\n",
    "import numpy as np\n",
    "import seaborn as sns\n",
    "import itertools"
   ]
  },
  {
   "cell_type": "code",
   "execution_count": 3,
   "metadata": {},
   "outputs": [],
   "source": [
    "N=200\n",
    "pesos=[]\n",
    "pesos= np.random.normal(35,3.1,N)\n",
    "numero_grupos=9\n",
    "numero_minimo_grupos=3"
   ]
  },
  {
   "cell_type": "code",
   "execution_count": 4,
   "metadata": {},
   "outputs": [
    {
     "name": "stderr",
     "output_type": "stream",
     "text": [
      "C:\\ProgramData\\Anaconda3\\lib\\site-packages\\ipykernel_launcher.py:6: SettingWithCopyWarning: \n",
      "A value is trying to be set on a copy of a slice from a DataFrame\n",
      "\n",
      "See the caveats in the documentation: http://pandas.pydata.org/pandas-docs/stable/indexing.html#indexing-view-versus-copy\n",
      "  \n"
     ]
    },
    {
     "data": {
      "text/html": [
       "<div>\n",
       "<style scoped>\n",
       "    .dataframe tbody tr th:only-of-type {\n",
       "        vertical-align: middle;\n",
       "    }\n",
       "\n",
       "    .dataframe tbody tr th {\n",
       "        vertical-align: top;\n",
       "    }\n",
       "\n",
       "    .dataframe thead th {\n",
       "        text-align: right;\n",
       "    }\n",
       "</style>\n",
       "<table border=\"1\" class=\"dataframe\">\n",
       "  <thead>\n",
       "    <tr style=\"text-align: right;\">\n",
       "      <th></th>\n",
       "      <th>Pesos</th>\n",
       "      <th>Sexo</th>\n",
       "    </tr>\n",
       "  </thead>\n",
       "  <tbody>\n",
       "    <tr>\n",
       "      <th>0</th>\n",
       "      <td>38.031160</td>\n",
       "      <td>H</td>\n",
       "    </tr>\n",
       "    <tr>\n",
       "      <th>1</th>\n",
       "      <td>38.128390</td>\n",
       "      <td>H</td>\n",
       "    </tr>\n",
       "    <tr>\n",
       "      <th>2</th>\n",
       "      <td>26.063927</td>\n",
       "      <td>H</td>\n",
       "    </tr>\n",
       "    <tr>\n",
       "      <th>3</th>\n",
       "      <td>35.276869</td>\n",
       "      <td>H</td>\n",
       "    </tr>\n",
       "    <tr>\n",
       "      <th>4</th>\n",
       "      <td>34.007589</td>\n",
       "      <td>H</td>\n",
       "    </tr>\n",
       "    <tr>\n",
       "      <th>5</th>\n",
       "      <td>34.844648</td>\n",
       "      <td>H</td>\n",
       "    </tr>\n",
       "    <tr>\n",
       "      <th>6</th>\n",
       "      <td>38.675537</td>\n",
       "      <td>H</td>\n",
       "    </tr>\n",
       "    <tr>\n",
       "      <th>7</th>\n",
       "      <td>39.414021</td>\n",
       "      <td>H</td>\n",
       "    </tr>\n",
       "    <tr>\n",
       "      <th>8</th>\n",
       "      <td>35.750029</td>\n",
       "      <td>H</td>\n",
       "    </tr>\n",
       "    <tr>\n",
       "      <th>9</th>\n",
       "      <td>28.656842</td>\n",
       "      <td>H</td>\n",
       "    </tr>\n",
       "    <tr>\n",
       "      <th>10</th>\n",
       "      <td>38.534523</td>\n",
       "      <td>H</td>\n",
       "    </tr>\n",
       "    <tr>\n",
       "      <th>11</th>\n",
       "      <td>32.599062</td>\n",
       "      <td>H</td>\n",
       "    </tr>\n",
       "    <tr>\n",
       "      <th>12</th>\n",
       "      <td>36.906564</td>\n",
       "      <td>H</td>\n",
       "    </tr>\n",
       "    <tr>\n",
       "      <th>13</th>\n",
       "      <td>37.678148</td>\n",
       "      <td>H</td>\n",
       "    </tr>\n",
       "    <tr>\n",
       "      <th>14</th>\n",
       "      <td>31.408424</td>\n",
       "      <td>H</td>\n",
       "    </tr>\n",
       "    <tr>\n",
       "      <th>15</th>\n",
       "      <td>32.338861</td>\n",
       "      <td>H</td>\n",
       "    </tr>\n",
       "    <tr>\n",
       "      <th>16</th>\n",
       "      <td>35.672683</td>\n",
       "      <td>H</td>\n",
       "    </tr>\n",
       "    <tr>\n",
       "      <th>17</th>\n",
       "      <td>35.419784</td>\n",
       "      <td>H</td>\n",
       "    </tr>\n",
       "    <tr>\n",
       "      <th>18</th>\n",
       "      <td>36.486787</td>\n",
       "      <td>H</td>\n",
       "    </tr>\n",
       "    <tr>\n",
       "      <th>19</th>\n",
       "      <td>38.837514</td>\n",
       "      <td>H</td>\n",
       "    </tr>\n",
       "    <tr>\n",
       "      <th>20</th>\n",
       "      <td>36.159886</td>\n",
       "      <td>H</td>\n",
       "    </tr>\n",
       "    <tr>\n",
       "      <th>21</th>\n",
       "      <td>32.977862</td>\n",
       "      <td>H</td>\n",
       "    </tr>\n",
       "    <tr>\n",
       "      <th>22</th>\n",
       "      <td>37.234790</td>\n",
       "      <td>H</td>\n",
       "    </tr>\n",
       "    <tr>\n",
       "      <th>23</th>\n",
       "      <td>38.569361</td>\n",
       "      <td>H</td>\n",
       "    </tr>\n",
       "    <tr>\n",
       "      <th>24</th>\n",
       "      <td>35.539056</td>\n",
       "      <td>H</td>\n",
       "    </tr>\n",
       "    <tr>\n",
       "      <th>25</th>\n",
       "      <td>30.393678</td>\n",
       "      <td>H</td>\n",
       "    </tr>\n",
       "    <tr>\n",
       "      <th>26</th>\n",
       "      <td>36.043853</td>\n",
       "      <td>H</td>\n",
       "    </tr>\n",
       "    <tr>\n",
       "      <th>27</th>\n",
       "      <td>36.974160</td>\n",
       "      <td>H</td>\n",
       "    </tr>\n",
       "    <tr>\n",
       "      <th>28</th>\n",
       "      <td>32.656578</td>\n",
       "      <td>H</td>\n",
       "    </tr>\n",
       "    <tr>\n",
       "      <th>29</th>\n",
       "      <td>36.731690</td>\n",
       "      <td>H</td>\n",
       "    </tr>\n",
       "    <tr>\n",
       "      <th>...</th>\n",
       "      <td>...</td>\n",
       "      <td>...</td>\n",
       "    </tr>\n",
       "    <tr>\n",
       "      <th>170</th>\n",
       "      <td>38.365531</td>\n",
       "      <td>M</td>\n",
       "    </tr>\n",
       "    <tr>\n",
       "      <th>171</th>\n",
       "      <td>39.476846</td>\n",
       "      <td>M</td>\n",
       "    </tr>\n",
       "    <tr>\n",
       "      <th>172</th>\n",
       "      <td>27.356710</td>\n",
       "      <td>M</td>\n",
       "    </tr>\n",
       "    <tr>\n",
       "      <th>173</th>\n",
       "      <td>33.459428</td>\n",
       "      <td>M</td>\n",
       "    </tr>\n",
       "    <tr>\n",
       "      <th>174</th>\n",
       "      <td>34.700379</td>\n",
       "      <td>M</td>\n",
       "    </tr>\n",
       "    <tr>\n",
       "      <th>175</th>\n",
       "      <td>33.727948</td>\n",
       "      <td>M</td>\n",
       "    </tr>\n",
       "    <tr>\n",
       "      <th>176</th>\n",
       "      <td>32.636893</td>\n",
       "      <td>M</td>\n",
       "    </tr>\n",
       "    <tr>\n",
       "      <th>177</th>\n",
       "      <td>34.379202</td>\n",
       "      <td>M</td>\n",
       "    </tr>\n",
       "    <tr>\n",
       "      <th>178</th>\n",
       "      <td>32.532269</td>\n",
       "      <td>M</td>\n",
       "    </tr>\n",
       "    <tr>\n",
       "      <th>179</th>\n",
       "      <td>31.477908</td>\n",
       "      <td>M</td>\n",
       "    </tr>\n",
       "    <tr>\n",
       "      <th>180</th>\n",
       "      <td>30.704048</td>\n",
       "      <td>M</td>\n",
       "    </tr>\n",
       "    <tr>\n",
       "      <th>181</th>\n",
       "      <td>28.492479</td>\n",
       "      <td>M</td>\n",
       "    </tr>\n",
       "    <tr>\n",
       "      <th>182</th>\n",
       "      <td>31.301802</td>\n",
       "      <td>M</td>\n",
       "    </tr>\n",
       "    <tr>\n",
       "      <th>183</th>\n",
       "      <td>34.469472</td>\n",
       "      <td>M</td>\n",
       "    </tr>\n",
       "    <tr>\n",
       "      <th>184</th>\n",
       "      <td>35.688542</td>\n",
       "      <td>M</td>\n",
       "    </tr>\n",
       "    <tr>\n",
       "      <th>185</th>\n",
       "      <td>41.511901</td>\n",
       "      <td>M</td>\n",
       "    </tr>\n",
       "    <tr>\n",
       "      <th>186</th>\n",
       "      <td>33.519521</td>\n",
       "      <td>M</td>\n",
       "    </tr>\n",
       "    <tr>\n",
       "      <th>187</th>\n",
       "      <td>28.963202</td>\n",
       "      <td>M</td>\n",
       "    </tr>\n",
       "    <tr>\n",
       "      <th>188</th>\n",
       "      <td>40.496098</td>\n",
       "      <td>M</td>\n",
       "    </tr>\n",
       "    <tr>\n",
       "      <th>189</th>\n",
       "      <td>31.737019</td>\n",
       "      <td>M</td>\n",
       "    </tr>\n",
       "    <tr>\n",
       "      <th>190</th>\n",
       "      <td>35.222872</td>\n",
       "      <td>M</td>\n",
       "    </tr>\n",
       "    <tr>\n",
       "      <th>191</th>\n",
       "      <td>31.882316</td>\n",
       "      <td>M</td>\n",
       "    </tr>\n",
       "    <tr>\n",
       "      <th>192</th>\n",
       "      <td>32.879785</td>\n",
       "      <td>M</td>\n",
       "    </tr>\n",
       "    <tr>\n",
       "      <th>193</th>\n",
       "      <td>39.359021</td>\n",
       "      <td>M</td>\n",
       "    </tr>\n",
       "    <tr>\n",
       "      <th>194</th>\n",
       "      <td>36.150050</td>\n",
       "      <td>M</td>\n",
       "    </tr>\n",
       "    <tr>\n",
       "      <th>195</th>\n",
       "      <td>39.292969</td>\n",
       "      <td>M</td>\n",
       "    </tr>\n",
       "    <tr>\n",
       "      <th>196</th>\n",
       "      <td>38.799960</td>\n",
       "      <td>M</td>\n",
       "    </tr>\n",
       "    <tr>\n",
       "      <th>197</th>\n",
       "      <td>35.768109</td>\n",
       "      <td>M</td>\n",
       "    </tr>\n",
       "    <tr>\n",
       "      <th>198</th>\n",
       "      <td>37.118475</td>\n",
       "      <td>M</td>\n",
       "    </tr>\n",
       "    <tr>\n",
       "      <th>199</th>\n",
       "      <td>35.932522</td>\n",
       "      <td>M</td>\n",
       "    </tr>\n",
       "  </tbody>\n",
       "</table>\n",
       "<p>200 rows × 2 columns</p>\n",
       "</div>"
      ],
      "text/plain": [
       "         Pesos Sexo\n",
       "0    38.031160    H\n",
       "1    38.128390    H\n",
       "2    26.063927    H\n",
       "3    35.276869    H\n",
       "4    34.007589    H\n",
       "5    34.844648    H\n",
       "6    38.675537    H\n",
       "7    39.414021    H\n",
       "8    35.750029    H\n",
       "9    28.656842    H\n",
       "10   38.534523    H\n",
       "11   32.599062    H\n",
       "12   36.906564    H\n",
       "13   37.678148    H\n",
       "14   31.408424    H\n",
       "15   32.338861    H\n",
       "16   35.672683    H\n",
       "17   35.419784    H\n",
       "18   36.486787    H\n",
       "19   38.837514    H\n",
       "20   36.159886    H\n",
       "21   32.977862    H\n",
       "22   37.234790    H\n",
       "23   38.569361    H\n",
       "24   35.539056    H\n",
       "25   30.393678    H\n",
       "26   36.043853    H\n",
       "27   36.974160    H\n",
       "28   32.656578    H\n",
       "29   36.731690    H\n",
       "..         ...  ...\n",
       "170  38.365531    M\n",
       "171  39.476846    M\n",
       "172  27.356710    M\n",
       "173  33.459428    M\n",
       "174  34.700379    M\n",
       "175  33.727948    M\n",
       "176  32.636893    M\n",
       "177  34.379202    M\n",
       "178  32.532269    M\n",
       "179  31.477908    M\n",
       "180  30.704048    M\n",
       "181  28.492479    M\n",
       "182  31.301802    M\n",
       "183  34.469472    M\n",
       "184  35.688542    M\n",
       "185  41.511901    M\n",
       "186  33.519521    M\n",
       "187  28.963202    M\n",
       "188  40.496098    M\n",
       "189  31.737019    M\n",
       "190  35.222872    M\n",
       "191  31.882316    M\n",
       "192  32.879785    M\n",
       "193  39.359021    M\n",
       "194  36.150050    M\n",
       "195  39.292969    M\n",
       "196  38.799960    M\n",
       "197  35.768109    M\n",
       "198  37.118475    M\n",
       "199  35.932522    M\n",
       "\n",
       "[200 rows x 2 columns]"
      ]
     },
     "execution_count": 4,
     "metadata": {},
     "output_type": "execute_result"
    }
   ],
   "source": [
    "sexo=[]\n",
    "sexo=np.random.binomial(N,0.5)#SE USA UNA BINOMIAL DE P=0.5 PARA QUE EL SEXO SEA ALEATORIO AL ASIGNARLO\n",
    "diccionario={'Pesos':pesos}\n",
    "corderos=pd.DataFrame(diccionario)\n",
    "corderos['Sexo']='M' #Machos\n",
    "corderos['Sexo'][0:sexo]='H' #Hembras\n",
    "corderos"
   ]
  },
  {
   "cell_type": "code",
   "execution_count": 5,
   "metadata": {},
   "outputs": [
    {
     "data": {
      "text/plain": [
       "(97, 103)"
      ]
     },
     "execution_count": 5,
     "metadata": {},
     "output_type": "execute_result"
    }
   ],
   "source": [
    "numero_machos=len(corderos[corderos['Sexo']=='M'])\n",
    "numero_hembras=len(corderos[corderos['Sexo']=='H'])\n",
    "machos=list(corderos[corderos['Sexo']=='M']['Pesos'])\n",
    "hembras=list(corderos[corderos['Sexo']=='H']['Pesos'])\n",
    "numero_machos,numero_hembras"
   ]
  },
  {
   "cell_type": "code",
   "execution_count": 6,
   "metadata": {},
   "outputs": [],
   "source": [
    "#SELECCIÓN VORAZ DEL NÚMERO DE ELEMENTOS DE CADA GRUPO Y DE LOS GRUPOS DE CADA UNO DE LOS SEXOS PARA MAXIMIZAR EL USO DE LAS \n",
    "#MUESTRAS\n",
    "def definir_grupos(numero_machos,numero_hembras,numero_grupos,numero_minimo_grupos):\n",
    "    elementos_grupo=0\n",
    "    n_grupos_hembras=0\n",
    "    n_grupos_machos=0\n",
    "    if numero_machos>numero_hembras:\n",
    "      for i in range(numero_minimo_grupos,int(numero_grupos/2+0.5)):\n",
    "        restriccion_hembras=int(numero_hembras/i)\n",
    "        restriccion_machos=int(numero_machos/(numero_grupos-i))\n",
    "        if restriccion_machos>restriccion_hembras:\n",
    "          if elementos_grupo<restriccion_hembras:\n",
    "            elementos_grupo=restriccion_hembras\n",
    "            n_grupos_hembras=i\n",
    "            n_grupos_machos=numero_grupos-i\n",
    "        else:\n",
    "          if elementos_grupo<restriccion_machos:\n",
    "            elementos_grupo=restriccion_machos\n",
    "            n_grupos_hembras=i\n",
    "            n_grupos_machos=numero_grupos-i\n",
    "    else:\n",
    "      for i in range(numero_minimo_grupos,int(numero_grupos/2+0.5)):\n",
    "        restriccion_machos=int(numero_hembras/i)\n",
    "        restriccion_hembras=int(numero_machos/(numero_grupos-i))\n",
    "        if restriccion_machos>restriccion_hembras:\n",
    "          if elementos_grupo<restriccion_hembras:\n",
    "            elementos_grupo=restriccion_hembras\n",
    "            n_grupos_hembras=numero_grupos-i\n",
    "            n_grupos_machos=i\n",
    "        else:\n",
    "          if elementos_grupo<restriccion_machos:\n",
    "            elementos_grupo=restriccion_machos\n",
    "            n_grupos_hembras=numero_grupos-i\n",
    "            n_grupos_machos=i\n",
    "\n",
    "    return elementos_grupo, n_grupos_machos, n_grupos_hembras\n",
    "    "
   ]
  },
  {
   "cell_type": "code",
   "execution_count": 7,
   "metadata": {},
   "outputs": [
    {
     "data": {
      "text/plain": [
       "(19, 4, 5)"
      ]
     },
     "execution_count": 7,
     "metadata": {},
     "output_type": "execute_result"
    }
   ],
   "source": [
    "elementos_grupo,n_grupos_machos, n_grupos_hembras=definir_grupos(numero_machos,numero_hembras,numero_grupos,numero_minimo_grupos)\n",
    "elementos_grupo, n_grupos_machos, n_grupos_hembras"
   ]
  },
  {
   "cell_type": "code",
   "execution_count": 8,
   "metadata": {},
   "outputs": [],
   "source": [
    "def quick_sort(A):\n",
    "  if len(A)==1:\n",
    "    return A\n",
    "  if len(A)==2:\n",
    "    return [min(A),max(A)]\n",
    "  \n",
    "  pivote=np.median(A)#Mejora del pivote a través de la mediana\n",
    "  \n",
    "  IZQ=[]\n",
    "  DER=[]\n",
    "  \n",
    "  for n in A:\n",
    "    if n<pivote:\n",
    "      IZQ.append(n)\n",
    "    else:\n",
    "      DER.append(n)\n",
    "  \n",
    "  return quick_sort(IZQ) + quick_sort(DER)"
   ]
  },
  {
   "cell_type": "code",
   "execution_count": 9,
   "metadata": {},
   "outputs": [],
   "source": [
    "#SE ORDENAN LOS INDIVIDUOS MACHOS Y HEMBRAS EN FUNCIÓN DE SUS PESOS. ESTO ES FUNDAMENTAL PARA EL ALGORITMO DE ASIGNACIÓN\n",
    "#DE LOS INDIVIDUOS A CADA GRUPO\n",
    "machos=quick_sort(machos)\n",
    "hembras=quick_sort(hembras)"
   ]
  },
  {
   "cell_type": "code",
   "execution_count": 10,
   "metadata": {},
   "outputs": [],
   "source": [
    "#ANTES DE EFECTUAR LA AGRUPACIÓN DE LOS INDIVIDUOS ES NECESARIO ELIMINAR AQUELLOS QUE HAYAN QUEDADO DESCARTADOS\n",
    "#POR EL ALGORITMO VORAZ ANTERIOR.\n",
    "\n",
    "#EL CRITERIO DE ELIMINACIÓN ES EL DE AQUELLOS ELEMENTOS MÁS ALEJADOS POR VALORES EXTREMOS POR ARRIBA O POR ABAJO\n",
    "#PARA REDUCIR LA DISPERSIÓN DE LOS INDIVIDUOS Y ELIMINAR OUTLIERS CON ELLO\n",
    "\n",
    "def eliminar_no_agrupados(elementos_grupo,n_grupos_machos,n_grupos_hembras,numero_machos, numero_hembras,corderos, machos, hembras):\n",
    "  eliminados_machos=numero_machos-elementos_grupo*n_grupos_machos\n",
    "  eliminados_hembras=numero_hembras-elementos_grupo*n_grupos_hembras\n",
    "  \n",
    "  for i in range(eliminados_machos):\n",
    "\n",
    "    if np.std(machos[:-1])<np.std(machos[1:]):\n",
    "\n",
    "      corderos=corderos.drop(list(corderos[corderos['Pesos']==machos[-1]].index), axis=0)\n",
    "      machos.pop()\n",
    "\n",
    "    else:\n",
    "\n",
    "      corderos=corderos.drop(list(corderos[corderos['Pesos']==machos[0]].index), axis=0)\n",
    "      machos.pop(0)\n",
    "\n",
    "  for i in range(eliminados_hembras):\n",
    "\n",
    "    if np.std(hembras[:-1])<np.std(hembras[1:]):\n",
    "\n",
    "      corderos=corderos.drop(list(corderos[corderos['Pesos']==hembras[-1]].index), axis=0)\n",
    "      hembras.pop()\n",
    "\n",
    "    else:\n",
    "\n",
    "      corderos=corderos.drop(list(corderos[corderos['Pesos']==hembras[0]].index), axis=0)\n",
    "      hembras.pop(0)\n",
    "   \n",
    "  numero_machos=len(machos)\n",
    "  numero_hembras=len(hembras)\n",
    "\n",
    "  return numero_machos ,numero_hembras , machos, hembras, corderos\n",
    "  \n",
    "\n",
    "  \n"
   ]
  },
  {
   "cell_type": "code",
   "execution_count": 11,
   "metadata": {},
   "outputs": [],
   "source": [
    "numero_machos ,numero_hembras , machos, hembras, corderos=eliminar_no_agrupados(elementos_grupo,n_grupos_machos,n_grupos_hembras,numero_machos, numero_hembras,corderos, machos, hembras)"
   ]
  },
  {
   "cell_type": "code",
   "execution_count": 12,
   "metadata": {},
   "outputs": [],
   "source": [
    "#FUNCIÓN DE CÁLCULO DE MEDIAS DE CADA GRUPO EN UN SEXO DETERMINADO\n",
    "\n",
    "def calcular_medias(Grupos,sexo):\n",
    "  medias=[]\n",
    "  for i in range (len(Grupos)):\n",
    "    sumatorio=0\n",
    "    for j in range(len(Grupos[i])):\n",
    "       sumatorio+=sexo[Grupos[i][j]]\n",
    "       if j==(len(Grupos[i])-1):\n",
    "         medias.append(sumatorio/(len(Grupos[i])))\n",
    "  return medias\n",
    "\n",
    "#FUNCIÓN DE CÁLCULO DE LA MATRIZ DE DESVIACIONES SI SE ASOCIA UN INDIVIDUO A UN GRUPO CONCRETO\n",
    "def calcular_matriz_desviaciones(Grupos,sexo,elementos):\n",
    "  desviaciones=[]\n",
    "  valores_pesos_grupo=[]\n",
    "  COSTES=np.zeros(len(elementos)*len(elementos)).reshape(len(elementos),len(elementos))\n",
    "\n",
    "  for i in range (len(Grupos)):\n",
    "\n",
    "    valores_pesos_grupo=[]\n",
    "\n",
    "    for j in range(len(Grupos[i])):\n",
    "\n",
    "       valores_pesos_grupo.append(Grupos[i][j])\n",
    "\n",
    "       if j==(len(Grupos[i])-1):\n",
    "\n",
    "         for k in range (len(elementos)):\n",
    "           valores_pesos_grupo.append(elementos[k])\n",
    "           COSTES[i,k]=np.std(valores_pesos_grupo)\n",
    "           valores_pesos_grupo.pop()\n",
    "\n",
    "  return COSTES\n",
    "\n",
    "#FUNCIÓN DE CÁLCULO DE LA MATRIZ DE DESVIACIONES SI SE ASOCIA UN INDIVIDUO A UN GRUPO CONCRETO\n",
    "def calcular_matriz_costes_medias(sexo,Grupos,elementos,medias):\n",
    "\n",
    "  COSTES=np.zeros(len(elementos)*len(elementos)).reshape(len(elementos),len(elementos))\n",
    "\n",
    "  for i in range (len(elementos)):\n",
    "\n",
    "    for j in range (len(elementos)):\n",
    "\n",
    "      COSTES[i,j]=(medias[i]*len(Grupos[i])+sexo[elementos[j]])/(len(Grupos[i])+1)\n",
    "\n",
    "  return COSTES\n",
    "\n",
    "def calcular_matriz_costes_desviaciones(sexo,Grupos,elementos,desviaciones):\n",
    "\n",
    "  COSTES=np.zeros(len(elementos)*len(elementos)).reshape(len(elementos),len(elementos))\n",
    "\n",
    "  for i in range (len(elementos)):\n",
    "\n",
    "    for j in range (len(elementos)):\n",
    "\n",
    "      COSTES[i,j]=(desviaciones[i]*len(Grupos[i])+sexo[elementos[j]])/(len(Grupos[i])+1)\n",
    "\n",
    "  return COSTES\n",
    "\n",
    "#FUNCIÓN DE MINIMIZACIÓN OBJETIVO DE LA AGRUPACIÓN DE INDIVIDUOS\n",
    "def valor(S,COSTES_MEDIAS,COSTES_DESVIACIONES):\n",
    "  VALOR=0\n",
    "  \n",
    "  for i in range(len(S)):\n",
    "\n",
    "    if i!=0:\n",
    "\n",
    "      VALOR+=np.abs(COSTES_MEDIAS[i][S[i]]-COSTES_MEDIAS[0][S[0]])+10*np.abs(COSTES_DESVIACIONES[i][S[i]]-COSTES_DESVIACIONES[0][S[0]])\n",
    "  \n",
    "  return VALOR\n",
    "    \n",
    "  \n",
    "\n",
    "def CI(S,COSTES):\n",
    "  \n",
    "  VALOR=0\n",
    "  \n",
    "  for i in range(len(S)):\n",
    "    VALOR+=COSTES[i][S[i]]\n",
    "    \n",
    "  for i in range(len(COSTES)):\n",
    "    if i not in S:\n",
    "      VALOR+=min([COSTES[j][i] for j in range(len(S),len(COSTES))])\n",
    "  \n",
    "  return VALOR\n",
    "\n",
    "\n",
    "\n",
    "def crear_hijos(NODO, N):\n",
    "  HIJOS=[]\n",
    "  \n",
    "  for i in range (N):\n",
    "    if i not in NODO:\n",
    "      HIJOS.append({'s':NODO+(i,)})\n",
    "  \n",
    "  return HIJOS\n",
    "\n",
    "\n"
   ]
  },
  {
   "cell_type": "code",
   "execution_count": 13,
   "metadata": {},
   "outputs": [],
   "source": [
    "#AGRUPACION DE INDIVIDUOS\n",
    "#SE BASA EN LA GENERACIÓN DE UN NÚMERO DE INDIVIDUOS IGUAL AL DE GRUPOS DESDE EL CENTRO DE LOS PESAJES DE CADA SEXO\n",
    "#DE ESTA MANERA SE VA HACIENDO UNA AGRUPACIÓN DINÁMICA QUE MINIMICE LA FUNCIÓN OBJETIVO DESARROLLADA ANTERIORMENTE\n",
    "#ES NECESARIO DIFERENCIAR ENTRE SI EL NÚMERO DE GRUPOS ES PARA O IMPAR YA QUE LA CENTRALIDAD DE LOS GRUPOS ES DE UNO \n",
    "#O DE DOS INDIVIDUOS\n",
    "def ejecutar_agrupacion(elementos_grupo,n_grupos,sexo):\n",
    "  #Encontrar elemento central\n",
    "  Grupos=[[] for i in range(n_grupos)]\n",
    "\n",
    "  if len(sexo)%2==0:\n",
    "\n",
    "    central_1=int((len(sexo)/2)-1)\n",
    "    central_2=int((len(sexo)/2))\n",
    "\n",
    "    for i in range(int(len(sexo)/n_grupos)):\n",
    "      \n",
    "       if i==0:\n",
    "\n",
    "         arrastrado=0\n",
    "\n",
    "         for j in range(2,3+int((n_grupos-2)/2)):\n",
    "\n",
    "          if j==2:\n",
    "\n",
    "            Grupos[0].append(central_1)\n",
    "            Grupos[int(n_grupos/2)].append(central_2)\n",
    "\n",
    "          else:\n",
    "\n",
    "            Grupos[j-2].append(int(((len(sexo)/2)-1))-(arrastrado+1))\n",
    "            Grupos[j+int(n_grupos/2)-2].append(int((len(sexo)/2))+(arrastrado+1))\n",
    "            arrastrado+=1\n",
    "        \n",
    "       else:\n",
    "\n",
    "         elementos_asignacion_izq=[]\n",
    "         elementos_asignacion_der=[]\n",
    "         elementos_asignacion=[]\n",
    "         \n",
    "         for k in range(int(n_grupos/2)):\n",
    "\n",
    "           elementos_asignacion_izq.append(central_1-i*int((n_grupos/2))-k)\n",
    "           elementos_asignacion_der.append(central_2+i*int((n_grupos/2))+k)\n",
    "         \n",
    "         elementos_asignacion=elementos_asignacion_izq+elementos_asignacion_der\n",
    "         print(elementos_asignacion)\n",
    "         medias=calcular_medias(Grupos,sexo)\n",
    "         COSTES_MEDIAS=calcular_matriz_costes_medias(sexo,Grupos,elementos_asignacion,medias)\n",
    "         COSTES_DESVIACIONES=calcular_matriz_desviaciones(Grupos,sexo,elementos_asignacion)\n",
    "         mejor_valor_asignacion=10e10\n",
    "         orden=[]\n",
    "         #PERMUTACIONES DE LOS L ELEMENTOS DE ASIGNACIÓN PARA LOGRAR POR FUERZA BRUTA LA MEJOR ASIGNACIÓN PARCIAL\n",
    "         #PARA ELLO SE USAN LOS CONCEPTOS APRENDIDOS EN LA AG RELATIVA A LA PROGRAMACIÓN DINÁMICA EN LA FUNCIÓN DE\n",
    "         #CÁLCULO DEL VALOR\n",
    "         for l in itertools.permutations(range(len(elementos_asignacion))):\n",
    "\n",
    "           valor_permutacion=valor(l,COSTES_MEDIAS,COSTES_DESVIACIONES)\n",
    "\n",
    "           if valor_permutacion<mejor_valor_asignacion:\n",
    "\n",
    "             mejor_valor_asignacion=valor_permutacion\n",
    "             orden=list(l)\n",
    "\n",
    "\n",
    "         for i in range(len(orden)):\n",
    "\n",
    "           Grupos[i].append(elementos_asignacion[orden[i]])\n",
    "        \n",
    "  else:\n",
    "    central_1=int((len(sexo)/2))    \n",
    "\n",
    "    for i in range(int(len(sexo)/n_grupos)):\n",
    "\n",
    "      if i==0:\n",
    "\n",
    "        arrastrado=0\n",
    "\n",
    "        for j in range(0,int(n_grupos/2)+1):\n",
    "\n",
    "          if j==0:\n",
    "\n",
    "            Grupos[0].append(central_1)\n",
    "\n",
    "          else:\n",
    "\n",
    "            Grupos[j+arrastrado].append(central_1-(1+arrastrado))\n",
    "            Grupos[j+arrastrado+1].append(central_1+(1+arrastrado))\n",
    "            arrastrado+=1\n",
    "\n",
    "      else:\n",
    "\n",
    "        elementos_asignacion_izq=[]\n",
    "        elementos_asignacion_der=[]\n",
    "        elementos_asignacion=[]\n",
    "\n",
    "        if i%2==0:\n",
    "\n",
    "\n",
    "          for m in range(int(n_grupos/2)+1):\n",
    "\n",
    "           elementos_asignacion_izq.append(central_1-(int(n_grupos/2)*(i))-int(i/2)-m)\n",
    "            \n",
    "          for m in range(int(n_grupos/2)):\n",
    "\n",
    "           elementos_asignacion_der.append(central_1+(int(n_grupos/2))*(i)+int(i/2+1)+m)\n",
    "            \n",
    "        else:\n",
    "\n",
    "           for m in range(int(n_grupos/2)):\n",
    "\n",
    "\n",
    "             elementos_asignacion_izq.append(central_1-(int(n_grupos/2))*(i)-int(i/2+1)-m)\n",
    "            \n",
    "           for m in range(int(n_grupos/2)+1):\n",
    "\n",
    "             elementos_asignacion_der.append(central_1+(int(n_grupos/2))*(i)+int(i/2+1)+m)\n",
    "           \n",
    "        elementos_asignacion=elementos_asignacion_izq+elementos_asignacion_der\n",
    "        medias=calcular_medias(Grupos,sexo)\n",
    "        COSTES_MEDIAS=calcular_matriz_costes_medias(sexo,Grupos,elementos_asignacion,medias)\n",
    "        COSTES_DESVIACIONES=calcular_matriz_desviaciones(Grupos,sexo,elementos_asignacion)\n",
    "        mejor_valor_asignacion=10e10\n",
    "        orden=[]\n",
    "\n",
    "        for l in itertools.permutations(range(len(elementos_asignacion))):\n",
    "\n",
    "          valor_permutacion=valor(l,COSTES_MEDIAS,COSTES_DESVIACIONES)\n",
    "\n",
    "          if valor_permutacion<mejor_valor_asignacion:\n",
    "\n",
    "            mejor_valor_asignacion=valor_permutacion\n",
    "            orden=list(l)\n",
    "\n",
    "\n",
    "        for i in range(len(orden)):\n",
    "\n",
    "          Grupos[i].append(elementos_asignacion[orden[i]])\n",
    "        \n",
    "\n",
    "  return Grupos\n",
    "          \n",
    "\n",
    "\n",
    "         \n",
    "          \n"
   ]
  },
  {
   "cell_type": "code",
   "execution_count": 14,
   "metadata": {},
   "outputs": [
    {
     "name": "stdout",
     "output_type": "stream",
     "text": [
      "[35, 34, 40, 41]\n",
      "[33, 32, 42, 43]\n",
      "[31, 30, 44, 45]\n",
      "[29, 28, 46, 47]\n",
      "[27, 26, 48, 49]\n",
      "[25, 24, 50, 51]\n",
      "[23, 22, 52, 53]\n",
      "[21, 20, 54, 55]\n",
      "[19, 18, 56, 57]\n",
      "[17, 16, 58, 59]\n",
      "[15, 14, 60, 61]\n",
      "[13, 12, 62, 63]\n",
      "[11, 10, 64, 65]\n",
      "[9, 8, 66, 67]\n",
      "[7, 6, 68, 69]\n",
      "[5, 4, 70, 71]\n",
      "[3, 2, 72, 73]\n",
      "[1, 0, 74, 75]\n"
     ]
    },
    {
     "data": {
      "text/plain": [
       "[[37, 41, 33, 45, 29, 49, 25, 53, 21, 57, 17, 61, 13, 65, 9, 69, 5, 73, 1],\n",
       " [36, 40, 32, 44, 28, 48, 24, 52, 20, 56, 16, 60, 12, 64, 8, 68, 4, 72, 0],\n",
       " [38, 34, 42, 30, 46, 26, 50, 22, 54, 18, 58, 14, 62, 10, 66, 6, 70, 2, 74],\n",
       " [39, 35, 43, 31, 47, 27, 51, 23, 55, 19, 59, 15, 63, 11, 67, 7, 71, 3, 75]]"
      ]
     },
     "execution_count": 14,
     "metadata": {},
     "output_type": "execute_result"
    }
   ],
   "source": [
    "#AGRUPACIÓN DE LOS MACHOS\n",
    "grupos_machos=ejecutar_agrupacion(elementos_grupo,n_grupos_machos,machos)\n",
    "grupos_machos"
   ]
  },
  {
   "cell_type": "code",
   "execution_count": 15,
   "metadata": {},
   "outputs": [],
   "source": [
    "#FUNCIÓN DE CÁLCULO DE LA MEDIA Y DESVIACIÓN DE CADA GRUPO\n",
    "def calcular_media_y_desviacion_grupos(grupos_sexo,sexo):\n",
    "  medias=[]\n",
    "  desviaciones=[]\n",
    "  for i in range(len(grupos_sexo)):\n",
    "\n",
    "    grupo_calculo=[]\n",
    "\n",
    "    for j in range(len(grupos_sexo[i])):\n",
    "      \n",
    "      grupo_calculo.append(sexo[grupos_sexo[i][j]])\n",
    "      \n",
    "      if j==len(grupos_sexo[i])-1:\n",
    "\n",
    "        medias.append(np.mean(grupo_calculo))\n",
    "        desviaciones.append(np.std(grupo_calculo))\n",
    "  return medias,desviaciones\n"
   ]
  },
  {
   "cell_type": "code",
   "execution_count": 16,
   "metadata": {},
   "outputs": [
    {
     "data": {
      "text/plain": [
       "([35.13044174680338, 34.98732363198396, 35.22360279579268, 35.3362152238803],\n",
       " [2.215307632874944,\n",
       "  2.1845917935753407,\n",
       "  2.209839642163568,\n",
       "  2.2021583974833483])"
      ]
     },
     "execution_count": 16,
     "metadata": {},
     "output_type": "execute_result"
    }
   ],
   "source": [
    "calcular_media_y_desviacion_grupos(grupos_machos,machos)"
   ]
  },
  {
   "cell_type": "code",
   "execution_count": 17,
   "metadata": {},
   "outputs": [
    {
     "data": {
      "text/plain": [
       "[[47, 52, 42, 57, 37, 62, 32, 67, 27, 72, 22, 77, 17, 82, 12, 87, 7, 92, 2],\n",
       " [46, 51, 41, 56, 36, 61, 31, 66, 26, 71, 21, 76, 16, 81, 11, 86, 6, 91, 1],\n",
       " [48, 43, 53, 38, 58, 33, 63, 28, 68, 23, 73, 18, 78, 13, 83, 8, 88, 3, 93],\n",
       " [45, 50, 40, 55, 35, 60, 30, 65, 25, 70, 20, 75, 15, 80, 10, 85, 5, 90, 0],\n",
       " [49, 44, 54, 39, 59, 34, 64, 29, 69, 24, 74, 19, 79, 14, 84, 9, 89, 4, 94]]"
      ]
     },
     "execution_count": 17,
     "metadata": {},
     "output_type": "execute_result"
    }
   ],
   "source": [
    "#AGRUPACIÓN DE LAS HEMBRAS\n",
    "grupos_hembras=ejecutar_agrupacion(elementos_grupo,n_grupos_hembras,hembras)\n",
    "calcular_media_y_desviacion_grupos(grupos_hembras,hembras)\n",
    "grupos_hembras"
   ]
  },
  {
   "cell_type": "code",
   "execution_count": 18,
   "metadata": {},
   "outputs": [
    {
     "data": {
      "text/plain": [
       "([35.57766292038918,\n",
       "  35.43893429586156,\n",
       "  35.65272644195233,\n",
       "  35.31968469322304,\n",
       "  35.766152803157354],\n",
       " [2.4177272953795326,\n",
       "  2.4398265247494324,\n",
       "  2.3952864721313722,\n",
       "  2.4163561995633276,\n",
       "  2.3898176691233783])"
      ]
     },
     "execution_count": 18,
     "metadata": {},
     "output_type": "execute_result"
    }
   ],
   "source": [
    "calcular_media_y_desviacion_grupos(grupos_hembras,hembras)"
   ]
  },
  {
   "cell_type": "code",
   "execution_count": 19,
   "metadata": {},
   "outputs": [],
   "source": [
    "#FUNCIÓN QUE DEFINE LA BONDAD GLOBAL DE LAS AGRUPACIONES EFECTUADAS A TRAVÉS DE LA MISMA FUNCIÓN OBJETIVO DE AGRUPACIÓN\n",
    "#DE LA ASIGNACIÓN DE INDIVIDUOS\n",
    "def bondad(medias,desviaciones):\n",
    "  bondad=0\n",
    "  for i in range(len(medias)):\n",
    "    if i!=0:\n",
    "      bondad+=np.abs(medias[i]-medias[0])+10*np.abs(desviaciones[i]-desviaciones[0])\n",
    "  return bondad\n",
    "\n",
    "#FUNCIÓN QUE DEVUELVE CUÁLES SON LOS DOS GRUPOS MÁS ALEJADOS DE CADA AGRUPACIÓN\n",
    "def matriz_distancias_bondad(medias,desviaciones,grupos,n_grupos):\n",
    "  matriz=np.zeros(n_grupos*n_grupos).reshape(n_grupos,n_grupos)\n",
    "  for i in range (n_grupos):\n",
    "\n",
    "    for j in range(i+1,n_grupos):\n",
    "\n",
    "      if i!=j:\n",
    "\n",
    "        matriz[i,j]:np.abs(medias[i]-medias[j])+10*np.abs(desviaciones[i]-desviaciones[j])\n",
    "\n",
    "        if matriz[i,j]==matriz.max():\n",
    "          grupo1=i\n",
    "          grupo2=j\n",
    "      \n",
    "  return grupo1,grupo2 \n"
   ]
  },
  {
   "cell_type": "markdown",
   "metadata": {},
   "source": [
    "### BÚSQUEDA LOCAL DENTRO DE LAS AGRUPACIONES DE ELEMENTOS"
   ]
  },
  {
   "cell_type": "code",
   "execution_count": 20,
   "metadata": {},
   "outputs": [],
   "source": [
    "#FUNCIÓN QUE GENERA UNA SOLUCIÓN VECINA DE FORMA PROBABILISTA.\n",
    "#SÓLO SE GUARDA SI ES MEJOR QUE LA SOLUCIÓN PREVIA.\n",
    "def generar_vecina(grupos,sexo,n_grupos_sexo):\n",
    "  #Generador de soluciones vecinas: 2-opt(intercambiar dos nodos) Si hay N nodos se generan (N-1)*(N-2)/2 posibles soluciones\n",
    "  mejor_solucion=grupos\n",
    "  medias,desviaciones=calcular_media_y_desviacion_grupos(grupos,sexo)\n",
    "  bondad_mejor= bondad(medias,desviaciones)\n",
    "  grupo_cambiado_1,grupo_cambiado_2=matriz_distancias_bondad(medias,desviaciones,grupos,n_grupos_sexo)\n",
    "  posiciones=np.random.randint(len(grupos[0]))\n",
    "  n_posiciones_cambiadas=np.random.randint(1,4)\n",
    "  if posiciones<len((grupos[0]))-n_posiciones_cambiadas or posiciones-n_posiciones_cambiadas>=0:\n",
    "\n",
    "     grupos[grupo_cambiado_1][posiciones-n_posiciones_cambiadas:posiciones+n_posiciones_cambiadas],grupos[grupo_cambiado_2] [posiciones-n_posiciones_cambiadas:posiciones+n_posiciones_cambiadas]=grupos[grupo_cambiado_2] [posiciones-n_posiciones_cambiadas:posiciones+n_posiciones_cambiadas],grupos[grupo_cambiado_1][posiciones-n_posiciones_cambiadas:posiciones+n_posiciones_cambiadas]\n",
    " \n",
    "  medias,desviaciones=calcular_media_y_desviacion_grupos(grupos,sexo)\n",
    "  bondad_vecina= bondad(medias,desviaciones)\n",
    "\n",
    "  if bondad_vecina<bondad_mejor:\n",
    "    mejor_solucion=grupos\n",
    "      \n",
    "  return  mejor_solucion"
   ]
  },
  {
   "cell_type": "code",
   "execution_count": 21,
   "metadata": {},
   "outputs": [],
   "source": [
    "#FUNCIÓN QUE REALIZA UNA BÚSQUEDA DE N POSIBLES NUEVAS SOLUCIONES DE AGRUPACIONES DE LOS ELEMENTOS, DEVOLVIENDO LA MEJOR\n",
    "def busqueda_local(grupos,sexo,n_grupos_sexo,N):\n",
    "\n",
    "  for i in range(N):\n",
    "    \n",
    "    grupos=generar_vecina(grupos,sexo,n_grupos_sexo)\n",
    "    \n",
    " \n",
    "  \n",
    "  return grupos\n",
    "    "
   ]
  },
  {
   "cell_type": "code",
   "execution_count": 22,
   "metadata": {},
   "outputs": [
    {
     "name": "stdout",
     "output_type": "stream",
     "text": [
      "[[47, 52, 42, 57, 37, 62, 32, 67, 27, 72, 22, 77, 17, 82, 12, 87, 7, 92, 2], [46, 51, 41, 56, 36, 61, 31, 66, 26, 71, 21, 76, 16, 81, 11, 86, 6, 91, 1], [48, 43, 53, 38, 58, 33, 63, 28, 68, 23, 73, 18, 78, 13, 83, 8, 88, 3, 93], [49, 50, 40, 39, 35, 60, 64, 29, 69, 24, 20, 75, 15, 80, 10, 9, 5, 4, 0], [45, 44, 54, 55, 59, 34, 30, 65, 25, 70, 74, 19, 79, 14, 84, 85, 89, 90, 94]]\n",
      "[35.57766292038918, 35.43893429586156, 35.65272644195233, 34.52168262863385, 36.56415486774655] [2.4177272953795326, 2.4398265247494324, 2.3952864721313722, 2.281664429902331, 2.087542494648196]\n"
     ]
    }
   ],
   "source": [
    "#BÚSQUEDA LOCAL DENTRO DE LAS AGRUPACIONES DE HEMBRAS\n",
    "grupos_hembras=busqueda_local(grupos_hembras,hembras,n_grupos_hembras,10000)\n",
    "print(grupos_hembras)\n",
    "media_hembras,desviacion_hembras=calcular_media_y_desviacion_grupos(grupos_hembras,hembras)\n",
    "print(media_hembras,desviacion_hembras)\n"
   ]
  },
  {
   "cell_type": "code",
   "execution_count": 23,
   "metadata": {},
   "outputs": [
    {
     "name": "stdout",
     "output_type": "stream",
     "text": [
      "[[37, 41, 33, 45, 29, 49, 25, 53, 21, 57, 17, 61, 13, 65, 9, 69, 5, 73, 1], [36, 40, 32, 44, 28, 48, 24, 52, 20, 56, 16, 60, 12, 64, 8, 68, 4, 72, 0], [38, 34, 42, 31, 46, 26, 50, 22, 54, 18, 58, 15, 62, 10, 67, 7, 70, 2, 75], [39, 35, 43, 30, 47, 27, 51, 23, 55, 19, 59, 14, 63, 11, 66, 6, 71, 3, 74]]\n",
      "[35.13044174680338, 34.98732363198396, 35.25944376866609, 35.30037425100689] [2.215307632874944, 2.1845917935753407, 2.2061645006910604, 2.2070872603642497]\n"
     ]
    }
   ],
   "source": [
    "#BÚSQUEDA LOCAL DENTRO DE LAS AGRUPACIONES DE MACHOS\n",
    "grupos_machos=busqueda_local(grupos_machos,machos,n_grupos_machos,10000)\n",
    "print(grupos_machos)\n",
    "media_machos,desviacion_machos=calcular_media_y_desviacion_grupos(grupos_machos,machos)\n",
    "print(media_machos,desviacion_machos)"
   ]
  },
  {
   "cell_type": "markdown",
   "metadata": {},
   "source": [
    "Las agrupaciones de machos y hembras optimizadas tras la búsqueda local son las que luego se utilizan para efectuar la unión de los grupos por tratamientos"
   ]
  },
  {
   "cell_type": "code",
   "execution_count": 26,
   "metadata": {},
   "outputs": [],
   "source": [
    "#FUNCIÓN PARA EL CÁLCULO DE LAS MEDIAS Y DESVIACIONES DE TODOS LOS ELEMENTOS DENTRO DE CADA TRATAMIENTO\n",
    "def calculo_medias_grupos_tratamientos(grupos_machos,grupos_hembras,machos,hembras,tratamientos):\n",
    "  media_tratamiento=[]\n",
    "  desviacion_tratamiento=[]\n",
    "  pesos_tratamiento=[[] for i in range(len(tratamientos))]\n",
    "  for i in range(len(tratamientos)):\n",
    "    suma=0\n",
    "    n_asignaciones=0\n",
    "    for k in range(len(tratamientos[i]['machos'])):\n",
    "      n_asignaciones+=1\n",
    "      for j in range(len(grupos_machos[0])):\n",
    "        suma+=machos[grupos_machos[tratamientos[i]['machos'][k]][j]]\n",
    "        pesos_tratamiento[i].append(machos[grupos_machos[tratamientos[i]['machos'][k]][j]])\n",
    "    for k in range(len(tratamientos[i]['hembras'])):\n",
    "      n_asignaciones+=1\n",
    "      for j in range(len(grupos_hembras[0])):\n",
    "        suma+=hembras[grupos_hembras[tratamientos[i]['hembras'][k]][j]]\n",
    "        pesos_tratamiento[i].append(hembras[grupos_hembras[tratamientos[i]['hembras'][k]][j]])\n",
    "    media_tratamiento.append(suma/(n_asignaciones*len(grupos_machos[0])))\n",
    "    desviacion_tratamiento.append(np.std(pesos_tratamiento[i]))\n",
    "  return media_tratamiento, desviacion_tratamiento,pesos_tratamiento\n",
    "\n"
   ]
  },
  {
   "cell_type": "code",
   "execution_count": 27,
   "metadata": {},
   "outputs": [],
   "source": [
    "#FUNCIÓN QUE EJECUTA LA AGRUPACIÓN DE LOS GRUPOS POR TRATAMIENTOS BUSCANDO LA MINIMIZACIÓN DE LAS DIFERENCIAS DE DESVIACIÓN\n",
    "#Y MEDIAS DE LOS GRUPOS\n",
    "\n",
    "def ejecutar_agrupacion_tratamientos(grupos_machos,grupos_hembras,machos,hembras,n_grupos_hembras,n_grupos_machos,medias_machos,medias_hembras,desviaciones_machos,desviaciones_hembras,n_tratamientos=3):\n",
    "  tratamientos=[{'hembras':[], 'machos':[]} for i in range (n_tratamientos)]\n",
    "  desviaciones=desviaciones_hembras+desviaciones_machos\n",
    "  grupos_restantes_machos=list(range(n_grupos_machos))\n",
    "  grupos_restantes_hembras=list(range(n_grupos_hembras))\n",
    "  orden_hembras=list(range(len(grupos_hembras)))\n",
    "  orden_machos=list(range(len(grupos_machos)))\n",
    "  medias_originales_hembras=medias_hembras\n",
    "  medias_hembras=quick_sort(medias_hembras)\n",
    "  medias_originales_machos=medias_machos\n",
    "  medias_machos=quick_sort(medias_machos)\n",
    "\n",
    "  for i in range(len(medias_hembras)):\n",
    "    for j in range(len(medias_originales_hembras)):\n",
    "      if medias_hembras[i]==medias_originales_hembras[j]:\n",
    "        orden_hembras[i]=j\n",
    "\n",
    "  for i in range(len(medias_machos)):\n",
    "    for j in range(len(medias_originales_machos)):\n",
    "      if medias_machos[i]==medias_originales_machos[j]:\n",
    "        orden_machos[i]=j\n",
    "\n",
    "  if np.min(medias_hembras)<np.min(medias_machos):\n",
    "    for k in range(n_tratamientos):\n",
    "      tratamientos[k]['hembras']=[orden_hembras[0]]\n",
    "      orden_hembras.pop(0)\n",
    "      tratamientos[k]['machos']=[orden_machos[-1]]\n",
    "      orden_machos.pop(-1)\n",
    "    \n",
    "  else:\n",
    "    for k in range(n_tratamientos):\n",
    "      tratamientos[k]['hembras']=[orden_hembras[-1]]\n",
    "      orden_hembras.pop(-1)\n",
    "      tratamientos[k]['machos']=[orden_machos[0]]\n",
    "      orden_machos.pop(0)\n",
    "  medias_tratamiento,desviaciones_tratamiento,pesos_tratamiento=calculo_medias_grupos_tratamientos(grupos_machos,grupos_hembras,machos,hembras,tratamientos)\n",
    "  medias_originales_tratamiento=medias_tratamiento\n",
    "  medias_tratamiento=quick_sort(medias_tratamiento)\n",
    "  orden_tratamiento=list(range(n_tratamientos))\n",
    "  for i in range(len(medias_tratamiento)):\n",
    "    for j in range(len(medias_tratamiento)):\n",
    "      if medias_tratamiento[i]==medias_originales_tratamiento[j]:\n",
    "        orden_tratamiento[i]=j\n",
    "\n",
    "  if orden_machos==[]:\n",
    "    for k in range(n_tratamientos):\n",
    "      tratamientos[orden_tratamiento[k]]['hembras'].append(orden_hembras[-1])\n",
    "      orden_hembras.pop(-1)\n",
    "  else:\n",
    "    if orden_hembras==[]:\n",
    "      for k in range(n_tratamientos):\n",
    "        tratamientos[orden_tratamiento[k]]['machos'].append(orden_machos[-1])\n",
    "        orden_machos.pop(-1)\n",
    "    else:\n",
    "      grupos_machos_comparacion=[[] for m in range(len(orden_machos))]\n",
    "      grupos_hembras_comparacion=[[] for m in range(len(orden_hembras))]\n",
    "                                                    \n",
    "      for i in range(len(orden_machos)):\n",
    "        for j in range(len(grupos_machos[0])):\n",
    "          grupos_machos_comparacion[i].append(grupos_machos[orden_machos[i]][j])\n",
    "\n",
    "      for i in range(len(orden_hembras)):\n",
    "        for j in range(len(grupos_hembras[0])):\n",
    "          grupos_hembras_comparacion[i].append(grupos_hembras[orden_hembras[i]][j])\n",
    "      \n",
    "      medias_machos_comparacion,_=calcular_media_y_desviacion_grupos(grupos_machos_comparacion, machos)\n",
    "      medias_hembras_comparacion,_=calcular_media_y_desviacion_grupos(grupos_hembras_comparacion, hembras)\n",
    "      for i in range(n_tratamientos):\n",
    "        if medias_machos_comparacion[-1]>medias_hembras_comparacion[-1] and orden_machos!=[] or orden_hembras==[]:\n",
    "          tratamientos[orden_tratamiento[i]]['machos'].append(orden_machos[-1])\n",
    "          for j in range(len(grupos_machos[orden_machos[-1]])):\n",
    "            pesos_tratamiento[i].append(grupos_machos[orden_machos[-1]][j])\n",
    "          orden_machos.pop(-1)\n",
    "        else:\n",
    "          tratamientos[orden_tratamiento[i]]['hembras'].append(orden_hembras[-1])\n",
    "          for j in range(len(grupos_hembras[orden_hembras[-1]])):\n",
    "            pesos_tratamiento[i].append(grupos_hembras[orden_hembras[-1]][j])\n",
    "          orden_hembras.pop(-1)\n",
    "      \n",
    "\n",
    "  return tratamientos,pesos_tratamiento\n"
   ]
  },
  {
   "cell_type": "code",
   "execution_count": 28,
   "metadata": {},
   "outputs": [
    {
     "name": "stdout",
     "output_type": "stream",
     "text": [
      "[{'hembras': [3, 4], 'machos': [3]}, {'hembras': [1, 2], 'machos': [2]}, {'hembras': [0], 'machos': [0, 1]}]\n"
     ]
    }
   ],
   "source": [
    "tratamientos,pesos_tratamiento=ejecutar_agrupacion_tratamientos(grupos_machos,grupos_hembras,machos,hembras,n_grupos_hembras,n_grupos_machos,media_machos,media_hembras,desviacion_machos,desviacion_hembras,n_tratamientos=3)\n",
    "print(tratamientos)"
   ]
  },
  {
   "cell_type": "code",
   "execution_count": 30,
   "metadata": {},
   "outputs": [
    {
     "name": "stdout",
     "output_type": "stream",
     "text": [
      "El tratamiento 0 está compuesto por el/los grupo/grupos [3, 4] de hembras  y el/los grupo/grupos [3] de machos\n",
      "El tratamiento 1 está compuesto por el/los grupo/grupos [1, 2] de hembras  y el/los grupo/grupos [2] de machos\n",
      "El tratamiento 2 está compuesto por el/los grupo/grupos [0] de hembras  y el/los grupo/grupos [0, 1] de machos\n"
     ]
    }
   ],
   "source": [
    "for i in range(len(tratamientos)):\n",
    "  print('El tratamiento ' + str(i) +' está compuesto por el/los grupo/grupos ' +str(tratamientos[i]['hembras']) + ' de hembras ' + ' y el/los grupo/grupos ' + str(tratamientos[i]['machos']) +' de machos')\n",
    "  "
   ]
  },
  {
   "cell_type": "code",
   "execution_count": 29,
   "metadata": {},
   "outputs": [
    {
     "data": {
      "text/plain": [
       "([35.46207058246242, 35.45036816882666, 35.23180943305884],\n",
       " [2.349476919918419, 2.3547713469525338, 2.2887476806539504],\n",
       " [[35.249394491676775,\n",
       "   35.18637321256388,\n",
       "   35.52013574057303,\n",
       "   34.531130476921305,\n",
       "   35.69185590307236,\n",
       "   34.46947194935848,\n",
       "   35.838990165196684,\n",
       "   33.744904124094205,\n",
       "   36.28877673130482,\n",
       "   33.459428253568824,\n",
       "   37.18882173750816,\n",
       "   32.87978463339247,\n",
       "   37.77820021314584,\n",
       "   32.63689294689913,\n",
       "   38.17801361197539,\n",
       "   32.031364516067285,\n",
       "   39.00358401914031,\n",
       "   31.737019067216536,\n",
       "   39.29296897545543,\n",
       "   36.04385302000458,\n",
       "   36.071814472282675,\n",
       "   35.27686876110725,\n",
       "   35.18231731162997,\n",
       "   34.80939967884159,\n",
       "   36.721375042479785,\n",
       "   36.906563785111835,\n",
       "   34.23566335447939,\n",
       "   37.23479001890333,\n",
       "   33.84822604794866,\n",
       "   32.97786235388694,\n",
       "   37.812266000247604,\n",
       "   32.74422775634624,\n",
       "   38.12839026057287,\n",
       "   32.338861418777775,\n",
       "   32.32220344752892,\n",
       "   31.30698488761693,\n",
       "   31.29944995278154,\n",
       "   30.650852373495095,\n",
       "   35.75002907879372,\n",
       "   35.69360765116501,\n",
       "   36.27228767259709,\n",
       "   36.33893819978637,\n",
       "   36.65988421681045,\n",
       "   34.75992829517247,\n",
       "   34.255864868566,\n",
       "   36.97415957395781,\n",
       "   33.9927567049091,\n",
       "   37.341098326917525,\n",
       "   37.756973614515054,\n",
       "   32.89627883681577,\n",
       "   38.08359755483216,\n",
       "   32.65657751220884,\n",
       "   38.56884958206467,\n",
       "   38.56936127454999,\n",
       "   38.963537588117255,\n",
       "   39.01289813810237,\n",
       "   40.172313797302806],\n",
       "  [35.24429678300055,\n",
       "   34.97549191501466,\n",
       "   35.35356824611155,\n",
       "   34.60480603676932,\n",
       "   35.688541768995954,\n",
       "   34.37920237698147,\n",
       "   35.79201776641575,\n",
       "   33.72794760804482,\n",
       "   36.1500504613833,\n",
       "   33.33697157035845,\n",
       "   37.1459993012153,\n",
       "   33.070149117777476,\n",
       "   37.66280787777672,\n",
       "   32.600427591877654,\n",
       "   38.365531025689904,\n",
       "   32.19473347116408,\n",
       "   38.79996002113987,\n",
       "   31.477907617932967,\n",
       "   39.35902104700585,\n",
       "   35.91404307559596,\n",
       "   36.1101323791233,\n",
       "   35.41978357490509,\n",
       "   36.364792491814256,\n",
       "   34.84464798105655,\n",
       "   36.731689856195224,\n",
       "   34.55054536354545,\n",
       "   37.01787989480019,\n",
       "   34.00139566299325,\n",
       "   37.54501303294997,\n",
       "   33.30652967047538,\n",
       "   37.837076953477506,\n",
       "   32.77182934170431,\n",
       "   38.39967360945616,\n",
       "   32.44803563220074,\n",
       "   38.581367597938595,\n",
       "   31.408423589277014,\n",
       "   39.41402109374062,\n",
       "   30.672870820120032,\n",
       "   35.95107218779846,\n",
       "   35.672683151469364,\n",
       "   36.17843811882225,\n",
       "   35.10708110641962,\n",
       "   36.56584729018583,\n",
       "   34.74861632467162,\n",
       "   36.90427686632696,\n",
       "   34.060970324814846,\n",
       "   37.08846731964807,\n",
       "   33.7868656537429,\n",
       "   37.6914338184844,\n",
       "   32.8872570881562,\n",
       "   38.0615981234196,\n",
       "   32.604680244169344,\n",
       "   38.54238776037636,\n",
       "   31.954108621825043,\n",
       "   38.83751361957945,\n",
       "   31.029929424959946,\n",
       "   39.72857535222418],\n",
       "  [35.222871775374976,\n",
       "   35.34345497241413,\n",
       "   34.700378610071574,\n",
       "   35.588251249372675,\n",
       "   34.49091204270136,\n",
       "   35.76810887569373,\n",
       "   34.354530135127554,\n",
       "   36.054478224588344,\n",
       "   33.7150033037638,\n",
       "   37.1184747142345,\n",
       "   33.29192448896305,\n",
       "   37.35411631974995,\n",
       "   32.66420213070332,\n",
       "   38.136960559539695,\n",
       "   32.532268702666464,\n",
       "   38.685541452207275,\n",
       "   31.92553313187088,\n",
       "   39.22958068194896,\n",
       "   31.30180181827204,\n",
       "   35.18858499052155,\n",
       "   35.33682693973532,\n",
       "   34.64957241525841,\n",
       "   35.56893929371087,\n",
       "   34.48071735921867,\n",
       "   35.7132625414738,\n",
       "   34.0013994842336,\n",
       "   35.93252206961567,\n",
       "   33.51952101632433,\n",
       "   36.50650363013083,\n",
       "   33.08769507507016,\n",
       "   37.347360108676895,\n",
       "   32.64612939987743,\n",
       "   37.955422531555165,\n",
       "   32.38091372740111,\n",
       "   38.41823910884468,\n",
       "   31.88231555978535,\n",
       "   39.02515062422813,\n",
       "   31.118073132033324,\n",
       "   35.94084054276619,\n",
       "   36.15988593691174,\n",
       "   35.53905579152582,\n",
       "   36.48678666516013,\n",
       "   34.97285575717951,\n",
       "   36.789631911993226,\n",
       "   34.583928553152425,\n",
       "   37.0178997332717,\n",
       "   34.00758891793391,\n",
       "   37.67814813390758,\n",
       "   33.75338091847125,\n",
       "   38.03115980271132,\n",
       "   32.78826880453985,\n",
       "   38.53452291091138,\n",
       "   32.599062017023485,\n",
       "   38.67553650117886,\n",
       "   31.928921248644027,\n",
       "   39.722566442065606,\n",
       "   30.765554898046496]])"
      ]
     },
     "execution_count": 29,
     "metadata": {},
     "output_type": "execute_result"
    }
   ],
   "source": [
    "calculo_medias_grupos_tratamientos(grupos_machos,grupos_hembras,machos,hembras,tratamientos)"
   ]
  },
  {
   "cell_type": "markdown",
   "metadata": {
    "colab_type": "text",
    "id": "eGDB4K6uk1iN"
   },
   "source": [
    "(*)Calcula la complejidad del algoritmo "
   ]
  },
  {
   "cell_type": "markdown",
   "metadata": {
    "colab_type": "text",
    "id": "NhpTh_BPk1ms"
   },
   "source": [
    "Respuesta"
   ]
  },
  {
   "cell_type": "markdown",
   "metadata": {
    "colab": {},
    "colab_type": "code",
    "id": "nREzhkStlCq8"
   },
   "source": [
    "Se usan varios algoritmos que tienen diferentes complejidades pero en ninguno de ellos se ejecutan bucles for anidados que tengan más de 3 dimensiones (O(N^3)), no obstante la parte que tiene una mayor duración es la búsqueda local por el análisis de la bondad de 10000 posibles soluciones distintas por los criterios de vecindad, aunque su algoritmo tampoco tiene un orden superior a N^3 "
   ]
  },
  {
   "cell_type": "markdown",
   "metadata": {
    "colab_type": "text",
    "id": "3M6QjTsSkmYe"
   },
   "source": [
    "Según el problema (y tenga sentido), diseña un juego de datos de entrada aleatorios"
   ]
  },
  {
   "cell_type": "markdown",
   "metadata": {
    "colab_type": "text",
    "id": "Jc3_OlyNkvjZ"
   },
   "source": [
    "Respuesta"
   ]
  },
  {
   "cell_type": "markdown",
   "metadata": {
    "colab": {},
    "colab_type": "code",
    "id": "sJ-N2etjkyWc"
   },
   "source": [
    "Viene detallado arriba pero lo reproduzco de nuevo:"
   ]
  },
  {
   "cell_type": "code",
   "execution_count": null,
   "metadata": {},
   "outputs": [],
   "source": [
    "import pandas as pd\n",
    "import numpy as np\n",
    "import seaborn as sns\n",
    "import itertools\n",
    "N=200\n",
    "pesos=[]\n",
    "pesos= np.random.normal(35,3.1,N)\n",
    "numero_grupos=9\n",
    "numero_minimo_grupos=3\n",
    "sexo=[]\n",
    "sexo=np.random.binomial(N,0.5)#SE USA UNA BINOMIAL DE P=0.5 PARA QUE EL SEXO SEA ALEATORIO AL ASIGNARLO\n",
    "diccionario={'Pesos':pesos}\n",
    "corderos=pd.DataFrame(diccionario)\n",
    "corderos['Sexo']='M' #Machos\n",
    "corderos['Sexo'][0:sexo]='H' #Hembras\n",
    "corderos"
   ]
  },
  {
   "cell_type": "markdown",
   "metadata": {
    "colab_type": "text",
    "id": "zy5ZROmjlGo1"
   },
   "source": [
    "Aplica el algoritmo al juego de datos generado"
   ]
  },
  {
   "cell_type": "markdown",
   "metadata": {
    "colab_type": "text",
    "id": "_Cmj-PVylMsa"
   },
   "source": [
    "Respuesta"
   ]
  },
  {
   "cell_type": "markdown",
   "metadata": {
    "colab": {},
    "colab_type": "code",
    "id": "Jkx8GeiYlUz1"
   },
   "source": [
    "Esta aplicado arriba, pudiendo observarse la bondad del tratamiento seguido dentro de este problema de tipo NP."
   ]
  },
  {
   "cell_type": "markdown",
   "metadata": {
    "colab_type": "text",
    "id": "eTFWUJQrtGcv"
   },
   "source": [
    "Enumera las referencias que has utilizado(si ha sido necesario) para llevar a cabo el trabajo"
   ]
  },
  {
   "cell_type": "markdown",
   "metadata": {
    "colab_type": "text",
    "id": "YKQ_mRBttWsP"
   },
   "source": [
    "Respuesta"
   ]
  },
  {
   "cell_type": "markdown",
   "metadata": {},
   "source": [
    "Las referencias serían los apuntes y las actividades guiadas desarrolladas en clase. Aprovecho para agradecer al profesor la profundidad en la enseñanza de las técnicas y la variedad que me han permitido abordar este problema desde ópticas distintas"
   ]
  },
  {
   "cell_type": "markdown",
   "metadata": {
    "colab_type": "text",
    "id": "kAkDPUyRtYyH"
   },
   "source": [
    "Describe brevemente las lineas de como crees que es posible avanzar en el estudio del problema. Ten en cuenta incluso posibles variaciones del problema y/o variaciones al alza del tamaño"
   ]
  },
  {
   "cell_type": "markdown",
   "metadata": {
    "colab_type": "text",
    "id": "IE0uZmo-tZu-"
   },
   "source": [
    "Respuesta"
   ]
  },
  {
   "cell_type": "markdown",
   "metadata": {},
   "source": [
    "He valorado y comenzado a desarrollar la ramificación y poda como técnica en la asignación de elementos en la agrupación inicial por sexos.\n",
    "\n",
    "Sería interesante plantear una búsqueda local dentro de la agrupación por tratamientos también o la aplicación de fuerza bruta ya que el número de combinaciones aquí es mucho menor ya que se trata de combinaciones de 9 elementos de 3 en tres sin repetición y con la restricción de que al menos un grupo de hembras y machos tiene que haber en cada tratamiento reduciendo notablemente las combinaciones válidas posibles."
   ]
  },
  {
   "cell_type": "code",
   "execution_count": null,
   "metadata": {},
   "outputs": [],
   "source": []
  }
 ],
 "metadata": {
  "colab": {
   "collapsed_sections": [],
   "name": "Seminario - Algoritmos.ipynb",
   "provenance": [],
   "version": "0.3.2"
  },
  "kernelspec": {
   "display_name": "Python 3",
   "language": "python",
   "name": "python3"
  },
  "language_info": {
   "codemirror_mode": {
    "name": "ipython",
    "version": 3
   },
   "file_extension": ".py",
   "mimetype": "text/x-python",
   "name": "python",
   "nbconvert_exporter": "python",
   "pygments_lexer": "ipython3",
   "version": "3.7.1"
  }
 },
 "nbformat": 4,
 "nbformat_minor": 1
}
