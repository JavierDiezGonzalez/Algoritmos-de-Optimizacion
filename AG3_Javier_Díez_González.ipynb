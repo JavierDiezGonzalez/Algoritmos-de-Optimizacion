{
  "nbformat": 4,
  "nbformat_minor": 0,
  "metadata": {
    "colab": {
      "name": "AG3 -Javier Díez González.ipynb",
      "provenance": [],
      "collapsed_sections": [],
      "include_colab_link": true
    },
    "kernelspec": {
      "name": "python3",
      "display_name": "Python 3"
    }
  },
  "cells": [
    {
      "cell_type": "markdown",
      "metadata": {
        "id": "view-in-github",
        "colab_type": "text"
      },
      "source": [
        "<a href=\"https://colab.research.google.com/github/JavierDiezGonzalez/Algoritmos-de-Optimizacion/blob/master/AG3_Javier_D%C3%ADez_Gonz%C3%A1lez.ipynb\" target=\"_parent\"><img src=\"https://colab.research.google.com/assets/colab-badge.svg\" alt=\"Open In Colab\"/></a>"
      ]
    },
    {
      "cell_type": "markdown",
      "metadata": {
        "id": "THAVdSTBJaLj",
        "colab_type": "text"
      },
      "source": [
        "## AG3- Actividad Guiada 3\n",
        "## Javier Díez González\n",
        "## https://colab.research.google.com/drive/1OqGMVYqRVRJVlabMyavHCngJzm0vQ4qG\n",
        "## https://github.com/JavierDiezGonzalez/Algoritmos-de-Optimizacion"
      ]
    },
    {
      "cell_type": "code",
      "metadata": {
        "id": "0NAiszLWV-I_",
        "colab_type": "code",
        "outputId": "89c9abd4-f92f-43dd-b9b2-0c43183a1e4e",
        "colab": {
          "base_uri": "https://localhost:8080/",
          "height": 550
        }
      },
      "source": [
        "!pip install request"
      ],
      "execution_count": 0,
      "outputs": [
        {
          "output_type": "stream",
          "text": [
            "Collecting request\n",
            "  Downloading https://files.pythonhosted.org/packages/f1/27/7cbde262d854aedf217061a97020d66a63163c5c04e0ec02ff98c5d8f44e/request-2019.4.13.tar.gz\n",
            "Collecting get (from request)\n",
            "  Downloading https://files.pythonhosted.org/packages/3f/ef/bb46f77f7220ac1b7edba0c76d810c89fddb24ddd8c08f337b9b4a618db7/get-2019.4.13.tar.gz\n",
            "Collecting post (from request)\n",
            "  Downloading https://files.pythonhosted.org/packages/0f/05/bd79da5849ea6a92485ed7029ef97b1b75e55c26bc0ed3a7ec769af666f3/post-2019.4.13.tar.gz\n",
            "Requirement already satisfied: setuptools in /usr/local/lib/python3.6/dist-packages (from request) (41.2.0)\n",
            "Collecting query_string (from get->request)\n",
            "  Downloading https://files.pythonhosted.org/packages/12/3c/412a45daf5bea9b1d06d7de41787ec4168001dfa418db7ec8723356b119f/query-string-2019.4.13.tar.gz\n",
            "Collecting public (from query_string->get->request)\n",
            "  Downloading https://files.pythonhosted.org/packages/54/4d/b40004cc6c07665e48af22cfe1e631f219bf4282e15fa76a5b6364f6885c/public-2019.4.13.tar.gz\n",
            "Building wheels for collected packages: request, get, post, query-string, public\n",
            "  Building wheel for request (setup.py) ... \u001b[?25l\u001b[?25hdone\n",
            "  Created wheel for request: filename=request-2019.4.13-cp36-none-any.whl size=1676 sha256=9781735fb07db7704643e3a1dad3ae3f92dd1d84e144a85dbb9c360aae78af20\n",
            "  Stored in directory: /root/.cache/pip/wheels/30/84/5f/484cfba678967ef58c16fce6890925d5c7172622f20111fbfd\n",
            "  Building wheel for get (setup.py) ... \u001b[?25l\u001b[?25hdone\n",
            "  Created wheel for get: filename=get-2019.4.13-cp36-none-any.whl size=1692 sha256=38ca1ec3ebf6f1d1a2ca656cc221ff5485b3a95e6a3f49ef3f9d77f9d71362c7\n",
            "  Stored in directory: /root/.cache/pip/wheels/c1/e3/c1/d02c8c58538853e4c9b78cadb74f6d5c5c370b48a69a7271aa\n",
            "  Building wheel for post (setup.py) ... \u001b[?25l\u001b[?25hdone\n",
            "  Created wheel for post: filename=post-2019.4.13-cp36-none-any.whl size=1661 sha256=cd2542e9a4fc68f9f37e930b55bbe9c50983d4b71543c71530cb2db2d302b611\n",
            "  Stored in directory: /root/.cache/pip/wheels/c3/c3/24/b5c132b537ab380c02d69e6bd4dec1f5db56b5fe19030473d7\n",
            "  Building wheel for query-string (setup.py) ... \u001b[?25l\u001b[?25hdone\n",
            "  Created wheel for query-string: filename=query_string-2019.4.13-cp36-none-any.whl size=2049 sha256=b7f26f6128d95fb7653944b8bd80030a76f392646c650d9fb634ccd1eb5a0514\n",
            "  Stored in directory: /root/.cache/pip/wheels/d6/a4/78/01b20a9dc224dcc009fab669f7f27b943b8889c5150bd68d8a\n",
            "  Building wheel for public (setup.py) ... \u001b[?25l\u001b[?25hdone\n",
            "  Created wheel for public: filename=public-2019.4.13-cp36-none-any.whl size=2536 sha256=027f53ddb3593b9e6a46c6610b95761c613d8fd0aeac1b48855c7326d92f655a\n",
            "  Stored in directory: /root/.cache/pip/wheels/23/7c/6e/f5b4e09d6596c8b8802b347e48f149031e2363368048f1347a\n",
            "Successfully built request get post query-string public\n",
            "Installing collected packages: public, query-string, get, post, request\n",
            "Successfully installed get-2019.4.13 post-2019.4.13 public-2019.4.13 query-string-2019.4.13 request-2019.4.13\n"
          ],
          "name": "stdout"
        }
      ]
    },
    {
      "cell_type": "code",
      "metadata": {
        "id": "6c59jx3-WUZl",
        "colab_type": "code",
        "outputId": "cb875c6b-ebb4-47d1-8762-165c27917ea6",
        "colab": {
          "base_uri": "https://localhost:8080/",
          "height": 34
        }
      },
      "source": [
        "import urllib.request\n",
        "\n",
        "file='swiss42.ts'\n",
        "\n",
        "urllib.request.urlretrieve('http://elib.zib.de/pub/mp-testdata/tsp/tsplib/tsp/swiss42.tsp', file)\n"
      ],
      "execution_count": 0,
      "outputs": [
        {
          "output_type": "execute_result",
          "data": {
            "text/plain": [
              "('swiss42.ts', <http.client.HTTPMessage at 0x7fe8d1029f98>)"
            ]
          },
          "metadata": {
            "tags": []
          },
          "execution_count": 5
        }
      ]
    },
    {
      "cell_type": "code",
      "metadata": {
        "id": "_yLLjp1-XdYm",
        "colab_type": "code",
        "outputId": "972c6bce-39ef-40f6-b714-d8dc73524d22",
        "colab": {
          "base_uri": "https://localhost:8080/",
          "height": 34
        }
      },
      "source": [
        "!ls"
      ],
      "execution_count": 0,
      "outputs": [
        {
          "output_type": "stream",
          "text": [
            "sample_data  swiss42.ts\n"
          ],
          "name": "stdout"
        }
      ]
    },
    {
      "cell_type": "code",
      "metadata": {
        "id": "ZKnQzb_0Xodt",
        "colab_type": "code",
        "outputId": "cbe04428-ff2b-4fff-f069-8e8c24939122",
        "colab": {
          "base_uri": "https://localhost:8080/",
          "height": 141
        }
      },
      "source": [
        "!pip install tsplib95"
      ],
      "execution_count": 0,
      "outputs": [
        {
          "output_type": "stream",
          "text": [
            "Collecting tsplib95\n",
            "  Downloading https://files.pythonhosted.org/packages/aa/14/3586c7451228f1145fa7de783297b07376a1a1af388ca69df7952eba6bd9/tsplib95-0.5.0-py2.py3-none-any.whl\n",
            "Requirement already satisfied: networkx~=2.1 in /usr/local/lib/python3.6/dist-packages (from tsplib95) (2.3)\n",
            "Requirement already satisfied: Click>=6.0 in /usr/local/lib/python3.6/dist-packages (from tsplib95) (7.0)\n",
            "Requirement already satisfied: decorator>=4.3.0 in /usr/local/lib/python3.6/dist-packages (from networkx~=2.1->tsplib95) (4.4.0)\n",
            "Installing collected packages: tsplib95\n",
            "Successfully installed tsplib95-0.5.0\n"
          ],
          "name": "stdout"
        }
      ]
    },
    {
      "cell_type": "code",
      "metadata": {
        "id": "m0mzV2Q5Y2je",
        "colab_type": "code",
        "colab": {}
      },
      "source": [
        "import tsplib95\n",
        "import random\n",
        "from math import e"
      ],
      "execution_count": 0,
      "outputs": []
    },
    {
      "cell_type": "code",
      "metadata": {
        "id": "OA7WIvynZCk2",
        "colab_type": "code",
        "outputId": "5912f085-97ad-4a35-fcbd-c43b7889a339",
        "colab": {
          "base_uri": "https://localhost:8080/",
          "height": 34
        }
      },
      "source": [
        "problem=tsplib95.load_problem(file)\n",
        "Nodos=list(problem.get_nodes())\n",
        "list(problem.get_nodes())\n",
        "list(problem.get_edges())\n",
        "\n",
        "problem.wfunc(0,1)"
      ],
      "execution_count": 0,
      "outputs": [
        {
          "output_type": "execute_result",
          "data": {
            "text/plain": [
              "15"
            ]
          },
          "metadata": {
            "tags": []
          },
          "execution_count": 19
        }
      ]
    },
    {
      "cell_type": "code",
      "metadata": {
        "id": "Lsr35gtaafi_",
        "colab_type": "code",
        "outputId": "081e4d94-dda2-4f46-b9eb-6e7b815be210",
        "colab": {
          "base_uri": "https://localhost:8080/",
          "height": 34
        }
      },
      "source": [
        "def distancia(a,b,problem):\n",
        "  return problem.wfunc(a,b)\n",
        "\n",
        "def crear_solucion(Nodos): \n",
        "  solucion = [0]\n",
        "  for i in range(len(Nodos)-1):\n",
        "    solucion = solucion + [random.choice(list(set(Nodos) - set({0}) - set(solucion)))]\n",
        "  return solucion\n",
        "\n",
        "def distancia_total(solucion,problem):\n",
        "  distancia_ret=0\n",
        "  for i in range(len(solucion)-1):\n",
        "    distancia_ret+=distancia(solucion[i], solucion[i+1], problem)\n",
        "  distancia_ret+=distancia(solucion[len(solucion)-1], solucion[0], problem)\n",
        "  return distancia_ret\n",
        "  \n",
        "solucion_prueba= crear_solucion(Nodos) \n",
        "print(distancia_total(solucion_prueba,problem), solucion_prueba)"
      ],
      "execution_count": 0,
      "outputs": [
        {
          "output_type": "stream",
          "text": [
            "5519 [0, 3, 34, 6, 17, 25, 15, 32, 26, 12, 28, 31, 40, 23, 19, 24, 33, 9, 10, 27, 35, 7, 38, 13, 2, 14, 22, 4, 30, 8, 37, 41, 16, 29, 5, 36, 21, 18, 39, 20, 1, 11]\n"
          ],
          "name": "stdout"
        }
      ]
    },
    {
      "cell_type": "code",
      "metadata": {
        "id": "oIDcuDJse8Tx",
        "colab_type": "code",
        "colab": {}
      },
      "source": [
        "def busqueda_aleatoria(problem, N):\n",
        "  Nodos=list(problem.get_nodes())\n",
        "  \n",
        "  mejor_solucion=[]\n",
        "  mejor_distancia=10e10\n",
        "  \n",
        "  for i in range (N):\n",
        "    \n",
        "    solucion_aleatoria= crear_solucion(Nodos)\n",
        "    distancia_solucion=distancia_total(solucion_aleatoria, problem)\n",
        "    \n",
        "    if distancia_solucion<mejor_distancia:\n",
        "      \n",
        "      mejor_solucion=solucion_aleatoria\n",
        "      mejor_distancia=distancia_solucion\n",
        "      \n",
        "  return print(mejor_distancia, mejor_solucion)"
      ],
      "execution_count": 0,
      "outputs": []
    },
    {
      "cell_type": "code",
      "metadata": {
        "id": "Z-Uqlb6uf2P_",
        "colab_type": "code",
        "outputId": "cb9d542f-7d12-496a-fce1-f0e8e3aa9aaa",
        "colab": {
          "base_uri": "https://localhost:8080/",
          "height": 34
        }
      },
      "source": [
        "busqueda_aleatoria(problem, 10000)"
      ],
      "execution_count": 0,
      "outputs": [
        {
          "output_type": "stream",
          "text": [
            "3636 [0, 17, 15, 20, 27, 5, 6, 28, 29, 39, 32, 23, 11, 41, 19, 18, 40, 24, 9, 22, 4, 30, 12, 10, 13, 37, 7, 3, 1, 14, 25, 2, 38, 8, 21, 36, 35, 33, 34, 16, 31, 26]\n"
          ],
          "name": "stdout"
        }
      ]
    },
    {
      "cell_type": "markdown",
      "metadata": {
        "id": "yjg67YLBk3Go",
        "colab_type": "text"
      },
      "source": [
        "##BÚSQUEDA LOCAL"
      ]
    },
    {
      "cell_type": "code",
      "metadata": {
        "id": "DhrwBf6-ktsp",
        "colab_type": "code",
        "colab": {}
      },
      "source": [
        "def generar_vecina(solucion, problem):\n",
        "  #Generador de soluciones vecinas: 2-opt(intercambiar dos nodos) Si hay N nodos se generan (N-1)*(N-2)/2 posibles soluciones\n",
        "  mejor_solucion=[]\n",
        "  mejor_distancia=10e10\n",
        "  \n",
        "  for i in range(1,len(solucion)-1):\n",
        "    for j in range(i+1, len(solucion)):\n",
        "      \n",
        "      vecina=solucion[:i]+[solucion[j]]+solucion[i+1:j]+[solucion[i]]+solucion[j+1:]\n",
        "      distancia_vecina=distancia_total(vecina, problem)\n",
        "      \n",
        "      if distancia_vecina<mejor_distancia:\n",
        "        mejor_solucion=vecina\n",
        "        mejor_distancia=distancia_vecina\n",
        "        \n",
        "  return mejor_solucion\n",
        "\n",
        "\n",
        "        "
      ],
      "execution_count": 0,
      "outputs": []
    },
    {
      "cell_type": "code",
      "metadata": {
        "id": "513J9u2rkt9_",
        "colab_type": "code",
        "colab": {}
      },
      "source": [
        "def busqueda_local(problem,N):\n",
        "  mejor_solucion=[]\n",
        "  mejor_distancia=10e10\n",
        "  \n",
        "  Nodos=list(problem.get_nodes())\n",
        "  solucion_referencia=crear_solucion(Nodos)\n",
        "  \n",
        "  for i in range(N):\n",
        "    \n",
        "    vecina=generar_vecina(solucion_referencia, problem)\n",
        "    distancia_vecina=distancia_total(vecina, problem)\n",
        "    \n",
        "    if distancia_vecina<mejor_distancia:\n",
        "      mejor_solucion=vecina\n",
        "      mejor_distancia=distancia_vecina\n",
        "    \n",
        "    solucion_referencia=mejor_solucion\n",
        "  \n",
        "  return mejor_distancia, mejor_solucion\n",
        "    "
      ],
      "execution_count": 0,
      "outputs": []
    },
    {
      "cell_type": "code",
      "metadata": {
        "id": "AK4eUo7ekuTv",
        "colab_type": "code",
        "outputId": "a5b8124a-c466-4157-fda3-660c5adc6653",
        "colab": {
          "base_uri": "https://localhost:8080/",
          "height": 781
        }
      },
      "source": [
        "busqueda_local(problem, 100)"
      ],
      "execution_count": 0,
      "outputs": [
        {
          "output_type": "execute_result",
          "data": {
            "text/plain": [
              "(1928,\n",
              " [0,\n",
              "  35,\n",
              "  36,\n",
              "  15,\n",
              "  16,\n",
              "  19,\n",
              "  13,\n",
              "  18,\n",
              "  12,\n",
              "  11,\n",
              "  25,\n",
              "  40,\n",
              "  24,\n",
              "  26,\n",
              "  5,\n",
              "  14,\n",
              "  37,\n",
              "  17,\n",
              "  31,\n",
              "  32,\n",
              "  20,\n",
              "  33,\n",
              "  34,\n",
              "  38,\n",
              "  22,\n",
              "  39,\n",
              "  21,\n",
              "  29,\n",
              "  30,\n",
              "  28,\n",
              "  27,\n",
              "  2,\n",
              "  3,\n",
              "  4,\n",
              "  1,\n",
              "  7,\n",
              "  6,\n",
              "  8,\n",
              "  9,\n",
              "  23,\n",
              "  41,\n",
              "  10])"
            ]
          },
          "metadata": {
            "tags": []
          },
          "execution_count": 57
        }
      ]
    },
    {
      "cell_type": "markdown",
      "metadata": {
        "id": "Z1xC_Kq_sjXx",
        "colab_type": "text"
      },
      "source": [
        "##RECOCIDO SIMULADO"
      ]
    },
    {
      "cell_type": "code",
      "metadata": {
        "id": "yWr8wJHwsoMo",
        "colab_type": "code",
        "colab": {}
      },
      "source": [
        "def probabilidad(T,d):\n",
        "  r=random.random()\n",
        "  \n",
        "  if r>=e**((-1*d)/(T*0.5*10**(-5))):\n",
        "    return True\n",
        "  else:\n",
        "    return False\n",
        "  \n",
        "def bajar_temperatura(T):\n",
        "  return T*0.9\n"
      ],
      "execution_count": 0,
      "outputs": []
    },
    {
      "cell_type": "code",
      "metadata": {
        "id": "0d3Dkv-PHhc0",
        "colab_type": "code",
        "colab": {}
      },
      "source": [
        "def recocido_simulado(problem,TEMPERATURA):\n",
        "  \n",
        "  mejor_solucion=[]\n",
        "  mejor_distancia=10e10\n",
        "  \n",
        "  Nodos=list(problem.get_nodes())\n",
        "  solucion_referencia=crear_solucion(Nodos)\n",
        "  \n",
        "  distancia_referencia=distancia_total(solucion_referencia, problem)\n",
        "  \n",
        "  while TEMPERATURA>1:\n",
        "    \n",
        "    vecina=generar_vecina(solucion_referencia, problem)\n",
        "    distancia_vecina=distancia_total(vecina, problem)\n",
        "    \n",
        "    if distancia_vecina<mejor_distancia:\n",
        "      \n",
        "      mejor_solucion=vecina\n",
        "      mejor_distancia=distancia_vecina\n",
        "    \n",
        "    if distancia_vecina<distancia_referencia or probabilidad(TEMPERATURA,abs(distancia_vecina-distancia_referencia)):\n",
        "      \n",
        "      solucion_referencia=vecina\n",
        "      distancia_referencia=distancia_vecina\n",
        "    \n",
        "    TEMPERATURA=bajar_temperatura(TEMPERATURA)\n",
        "    \n",
        "  print(mejor_distancia, mejor_solucion)\n",
        "    \n",
        "  return mejor_solucion\n",
        " \n"
      ],
      "execution_count": 0,
      "outputs": []
    },
    {
      "cell_type": "code",
      "metadata": {
        "id": "Pyj02A-lJsfz",
        "colab_type": "code",
        "outputId": "fd4ada21-2518-4c12-bf91-af66834fcf86",
        "colab": {
          "base_uri": "https://localhost:8080/",
          "height": 781
        }
      },
      "source": [
        "recocido_simulado(problem,100)"
      ],
      "execution_count": 0,
      "outputs": [
        {
          "output_type": "stream",
          "text": [
            "4699 [0, 12, 29, 7, 33, 39, 2, 16, 4, 6, 3, 37, 20, 23, 13, 11, 28, 5, 30, 34, 9, 21, 40, 31, 26, 1, 17, 36, 24, 25, 14, 22, 10, 18, 19, 32, 27, 8, 15, 41, 38, 35]\n"
          ],
          "name": "stdout"
        },
        {
          "output_type": "execute_result",
          "data": {
            "text/plain": [
              "[0,\n",
              " 12,\n",
              " 29,\n",
              " 7,\n",
              " 33,\n",
              " 39,\n",
              " 2,\n",
              " 16,\n",
              " 4,\n",
              " 6,\n",
              " 3,\n",
              " 37,\n",
              " 20,\n",
              " 23,\n",
              " 13,\n",
              " 11,\n",
              " 28,\n",
              " 5,\n",
              " 30,\n",
              " 34,\n",
              " 9,\n",
              " 21,\n",
              " 40,\n",
              " 31,\n",
              " 26,\n",
              " 1,\n",
              " 17,\n",
              " 36,\n",
              " 24,\n",
              " 25,\n",
              " 14,\n",
              " 22,\n",
              " 10,\n",
              " 18,\n",
              " 19,\n",
              " 32,\n",
              " 27,\n",
              " 8,\n",
              " 15,\n",
              " 41,\n",
              " 38,\n",
              " 35]"
            ]
          },
          "metadata": {
            "tags": []
          },
          "execution_count": 63
        }
      ]
    },
    {
      "cell_type": "code",
      "metadata": {
        "id": "plkKs3jlHhxq",
        "colab_type": "code",
        "colab": {}
      },
      "source": [
        ""
      ],
      "execution_count": 0,
      "outputs": []
    }
  ]
}